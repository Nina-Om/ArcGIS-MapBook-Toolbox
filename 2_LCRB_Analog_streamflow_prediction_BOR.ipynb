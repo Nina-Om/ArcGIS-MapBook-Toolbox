{
  "cells": [
    {
      "cell_type": "markdown",
      "metadata": {
        "id": "view-in-github",
        "colab_type": "text"
      },
      "source": [
        "<a href=\"https://colab.research.google.com/github/Nina-Om/ArcGIS-MapBook-Toolbox/blob/master/2_LCRB_Analog_streamflow_prediction_BOR.ipynb\" target=\"_parent\"><img src=\"https://colab.research.google.com/assets/colab-badge.svg\" alt=\"Open In Colab\"/></a>"
      ]
    },
    {
      "cell_type": "markdown",
      "metadata": {
        "id": "O8G8aYHjbaea"
      },
      "source": [
        "# Run predictive kNN model for analog based monsoon streamflow prediction in LCRB"
      ]
    },
    {
      "cell_type": "markdown",
      "metadata": {
        "id": "-SIFs4BWo5KQ"
      },
      "source": [
        "**Title**: k-Nearest Neighbors (kNN) Analysis for Identifying Analog Years and Streamflow Prediction \\\n",
        "**Author**: Nina Omani \\\n",
        "**Date created**: 2/14/2024  \\\n",
        "\\\n",
        "**Description**:  \\\n",
        "This notebook uses the k-Nearest Neighbors (kNN) algorithm to identify analog years based on hydroclimate condition and streamflow data.\n",
        "\n",
        "It standardizes hydroclimate features, performs kNN to find the 4 closest analog years, and calculates streamflow predictions.\n",
        "\n",
        "The script then evaluates the predictive performance using metrics such as MAE, RMSE, and MAPE, and visualizes the results.\n",
        "\n",
        "**Requirements:** \\\n",
        "The script requires the following input files:\n",
        "*   **2.WT_combined_data.csv**: Output from the **1.WT_File_gather.R** script, containing weather type data with streamflow information.\n",
        "*   **BOR Intervening Flows Data 1971-2022_NFDextension v2.xlsx**: Streamflow observation data.\n",
        "\n",
        "**Hindcast WTs:** 1981-2023 \\\n",
        "**Available Historic WTs:** 1970-2023 \\\n",
        "**Streamflow:** 1972-2022 \\\n",
        "**Evaluation period:** 1993-2021\n",
        "\n",
        "\n",
        "Ensure these files are present and paths are correctly set.\n",
        "\n"
      ]
    },
    {
      "cell_type": "markdown",
      "metadata": {
        "id": "OBjqPvUFjah-"
      },
      "source": [
        "# Runtime setup:\n",
        "To activate the R kernel in Google Colab, follow these steps:, make sure you select \"R\" Runtime type under \"Runtime\", \"Change runtime type\", Runtime type:R."
      ]
    },
    {
      "cell_type": "markdown",
      "metadata": {
        "id": "F9mbRnAT5GnJ"
      },
      "source": [
        "# **Experiments**\n",
        "\n",
        "**SMYLE vs. ECMWF Comparisons** \\\n",
        "`ECMWF <- TRUE `  \n",
        " Determines whether the experiment uses ECMWF data (TRUE) or SMYLE data (FALSE).\n",
        "\n",
        "**Baseline Experiment or Default Conditions (Figure 3, 12)** \\\n",
        "Assess the baseline scenario without antecedent streamflow and WTs predictors.\n",
        "\n",
        "Conditions: \\\n",
        "`ECMWF: TRUE`         - Indicates the experiment uses ECMWF data. \\\n",
        "`feature: baseline`      - No antecedent streamflow or WTs predictors are included. \\\n",
        "`AGGREGATE: FALSE`    - Monthly WTs predictors are used, not aggregated predictors (e.g., JJASO, JASO).\n",
        "```\n",
        "combinations <- data.frame(\n",
        "  region = c(\"AZ_West\", \"AZ_West\"),\n",
        "  gage = c(\"Glen_Hoover\", \"Total_Below_Parker\")\n",
        ")\n",
        "```\n",
        "**Regional weather impact assessment (Figure 8)** \\\n",
        "Assess regional weather impact without antecedent predictors or aggregated WTs.\n",
        "\n",
        "Conditions: \\\n",
        "`feature <- baseline`  Does not include antecedent predictors \\\n",
        "`AGGREGATE <- FALSE `  Does not use aggregated WTs predictors\n",
        "```\n",
        "combinations <- data.frame(\n",
        "  region = c(\"AZ_East\", \"AZ_West\"),\n",
        "  gage = c(\"Glen_Hoover\", \"Glen_Hoover\")\n",
        ")\n",
        "```\n",
        "**Aggregated WTs as Predictors (Figure 9)** \\\n",
        "Similar to the baseline but with aggregated WTs predictors.\n",
        "\n",
        "Conditions: \\\n",
        "`feature <- baseline`     - No antecedent streamflow predictors included. \\\n",
        "`AGGREGATE <- TRUE `   - Aggregated WTs predictors (e.g., JJASO, JASO, ASO)\n",
        "```\n",
        "combinations <- data.frame(\n",
        "  region = c(\"AZ_West\", \"AZ_West\"),\n",
        "  gage = c(\"Glen_Hoover\", \"Total_Below_Parker\")\n",
        ")\n",
        "```\n",
        "**Influence of initial conditions (Figure 10)** \\\n",
        "Examine the impact of including antecedent streamflow as a predictor.\n",
        "\n",
        "Conditions: \\\n",
        "`feature <- anteced_streamflow_features`     - Includes antecedent streamflow as a predictor \\\n",
        "`AGGREGATE <- FALSE `       - Uses monthly WTs predictors, not aggregated ones.\n",
        "```\n",
        "combinations <- data.frame(\n",
        "  region = c(\"AZ_West\", \"AZ_West\"),\n",
        "  gage = c(\"Glen_Hoover\", \"Total_Below_Parker\")\n",
        ")\n",
        "```\n",
        "**TCLW variable as predictor + initial conditions (Figure 10)** \\\n",
        "Conditions: \\\n",
        "`feature <- anteced_streamflow_features`  \\\n",
        "`predictors <- c(\"tclw\")`\n",
        "```\n",
        "combinations <- data.frame(\n",
        "  region = c(\"AZ_West\", \"AZ_West\"),\n",
        "  gage = c(\"Glen_Hoover\", \"Total_Below_Parker\")\n",
        ")\n",
        "```\n",
        "**Q850 and TCLW as a predictor directly (Figure 11)** \\\n",
        "Conditions: \\\n",
        "Baseline conditions : \\\n",
        " `feature <- baseline`  \\\n",
        "`predictors <- c(\"q\") or c(\"tclw\")`\n"
      ]
    },
    {
      "cell_type": "markdown",
      "metadata": {
        "id": "sdYWUdiSpzBo"
      },
      "source": [
        "#FNN package\n",
        "**get.knnx function:**\n",
        "  \n",
        "It is designed to find the k-nearest neighbors of a set of query points in a given dataset.\n",
        "\n",
        "It takes two main input matrices: data (the dataset in which to search for neighbors) and query (the points for which neighbors are found).\n",
        "\n",
        "This function is useful when you have a specific set of points outside your dataset for which you want to find neighbors within your dataset.\n"
      ]
    },
    {
      "cell_type": "code",
      "execution_count": null,
      "metadata": {
        "id": "lrhXgo9finYo"
      },
      "outputs": [],
      "source": [
        "#Install the packages if required\n",
        "if (!requireNamespace(\"readr\", quietly = TRUE)) install.packages(\"readr\")\n",
        "if (!requireNamespace(\"FNN\", quietly = TRUE)) install.packages(\"FNN\")\n",
        "if (!requireNamespace(\"zoo\", quietly = TRUE)) install.packages(\"zoo\")\n",
        "if (!requireNamespace(\"reshape2\", quietly = TRUE)) install.packages(\"reshape2\")\n",
        "if (!requireNamespace(\"Metrics\", quietly = TRUE)) install.packages(\"Metrics\")\n",
        "if (!requireNamespace(\"readxl\", quietly = TRUE)) install.packages(\"readxl\")\n",
        "if (!requireNamespace(\"tidyr\", quietly = TRUE)) install.packages(\"tidyr\")\n",
        "if (!requireNamespace(\"tibble\", quietly = TRUE)) install.packages(\"tibble\")\n",
        "if (!requireNamespace(\"dplyr\", quietly = TRUE)) install.packages(\"dplyr\")\n",
        "if (!requireNamespace(\"ggplot2\", quietly = TRUE)) install.packages(\"ggplot2\")\n",
        "if (!requireNamespace(\"grid\", quietly = TRUE)) install.packages(\"grid\")\n",
        "if (!requireNamespace(\"gridExtra\", quietly = TRUE)) install.packages(\"gridExtra\")\n",
        "if (!requireNamespace(\"reticulate\", quietly = TRUE)) install.packages(\"reticulate\")\n",
        "if (!requireNamespace(\"googledrive\", quietly = TRUE)) install.packages(\"googledrive\")\n",
        "if (!requireNamespace(\"plotly\", quietly = TRUE)) install.packages(\"plotly\")"
      ]
    },
    {
      "cell_type": "code",
      "execution_count": null,
      "metadata": {
        "id": "hzrTsSpwh9v8"
      },
      "outputs": [],
      "source": [
        "library(FNN)\n",
        "library(readr)\n",
        "library(dplyr)\n",
        "library(tibble)\n",
        "library(ggplot2)\n",
        "library(readxl)\n",
        "library(zoo)\n",
        "library(reshape2)\n",
        "library(tidyr)\n",
        "library(Metrics)\n",
        "library(grid)\n",
        "library(gridExtra)\n",
        "library(googledrive)\n",
        "library(reticulate)"
      ]
    },
    {
      "cell_type": "code",
      "execution_count": null,
      "metadata": {
        "id": "jgR3cYjzN1GY"
      },
      "outputs": [],
      "source": [
        "# Execute Python code to mount Google Drive using system\n",
        "system(\"python3 -c 'from google.colab import drive; drive.mount(\\\"/content/drive\\\")'\")"
      ]
    },
    {
      "cell_type": "markdown",
      "metadata": {
        "id": "TFIWp-c73KxH"
      },
      "source": [
        "# Functions (0.Functions.R)"
      ]
    },
    {
      "cell_type": "code",
      "execution_count": null,
      "metadata": {
        "id": "8HME5AmRyqpe"
      },
      "outputs": [],
      "source": [
        "# Function definitions\n",
        "\n",
        "standardize <- function(x) {\n",
        "  (x - mean(x, na.rm = TRUE)) / sd(x, na.rm = TRUE)}\n",
        "\n",
        "# Filter and prepare historic and forecast data for the kNN analysis.\n",
        "prepare_data <- function(data, years, months, obs = TRUE) {\n",
        "  # Select columns based on whether preparing observed (obs) or forecasted (for) data\n",
        "  select_cols <- if (obs) c(\"Year\", \"Month\", grep(\"_obs$|.obs$\", names(data), value = TRUE)) else c(\"lead_date\", \"lead_month\", \"Year\", \"Month\", grep(\"_for$|.for$\", names(data), value = TRUE))\n",
        "\n",
        "  prepared_data <- data %>%\n",
        "    filter(Year %in% years, Month %in% months) %>%\n",
        "    select(all_of(select_cols)) %>%\n",
        "    na.omit() %>%\n",
        "    distinct()\n",
        "\n",
        "  prepared_data <- prepared_data %>%\n",
        "    mutate(across(everything(), as.numeric))\n",
        "\n",
        "  return(prepared_data)\n",
        "}\n",
        "\n",
        "# Conduct initial data exploration, including correlation analysis and plotting of monthly means.\n",
        "perform_data_exploration <- function(data) {\n",
        "  # Correlation analysis\n",
        "  cor_matrix_for <- cor(data %>% select(dry.for, normal.for, monsoon.for), use = \"complete.obs\")\n",
        "  #print(cor_matrix_for)\n",
        "\n",
        "  cor_matrix_obs <- cor(data %>% select(dry.obs, normal.obs, monsoon.obs), use = \"complete.obs\")\n",
        "  #print(cor_matrix_obs)\n",
        "\n",
        "  # Plotting mean monthly values\n",
        "  monthly_means <- data %>%\n",
        "    group_by(Month) %>%\n",
        "    summarise(\n",
        "      mean_dry_obs = mean(dry.obs, na.rm = TRUE),\n",
        "      mean_normal_obs = mean(normal.obs, na.rm = TRUE),\n",
        "      mean_monsoon_obs = mean(monsoon.obs, na.rm = TRUE)\n",
        "    ) %>%\n",
        "    ungroup()\n",
        "\n",
        "  ggplot(monthly_means, aes(x = Month)) +\n",
        "    geom_line(aes(y = mean_dry_obs, color = \"Dry\"), linewidth = 1) +\n",
        "    geom_line(aes(y = mean_normal_obs, color = \"Normal\"), linewidth = 1) +\n",
        "    geom_line(aes(y = mean_monsoon_obs, color = \"Monsoon\"), linewidth = 1) +\n",
        "    scale_color_manual(values = c(\"Dry\" = \"red\", \"Normal\" = \"green\", \"Monsoon\" = \"blue\")) +\n",
        "    labs(title = \"Mean Monthly Observations\", x = \"Month\", y = \"Mean Observation Value\", color = \"Observation Type\") +\n",
        "    theme_minimal() +\n",
        "    theme(axis.text.x = element_text(angle = 45, hjust = 1))\n",
        "}\n",
        "\n",
        "# AntecedentMeans <- function(data, n) {\n",
        "#   if(n == 1) {\n",
        "#     return(c(NA, head(data, -1)))\n",
        "#   } else {\n",
        "#     antecedent_means <- rep(NA, length(data))\n",
        "#     for(i in (n+1):length(data)) {\n",
        "#       antecedent_means[i] <- mean(data[(i-n):(i-1)], na.rm = TRUE)\n",
        "#     }\n",
        "#     return(antecedent_means)\n",
        "#   }\n",
        "# }\n",
        "\n",
        "AntecedentMeans <- function(data, n) {\n",
        "  # Initialize a vector to store the antecedent means\n",
        "  antecedent_means <- rep(NA, length(data))\n",
        "\n",
        "  if (n < 1) {\n",
        "    stop(\"n must be greater than or equal to 1\")\n",
        "  }\n",
        "\n",
        "  if (n == 1) {\n",
        "    antecedent_means[2:length(data)] <- head(data, -1)\n",
        "  } else {\n",
        "    for (i in (n + 1):length(data)) {\n",
        "      antecedent_means[i] <- mean(data[(i - n):(i - 1)], na.rm = TRUE)\n",
        "    }\n",
        "  }\n",
        "  return(antecedent_means)\n",
        "}\n",
        "\n",
        "#antecedent_monthly <- AntecedentMeans(monthly_data, 1)\n",
        "#antecedent_mean_two_months <- AntecedentMeans(monthly_data, 2)\n",
        "#antecedent_mean_three_months <- AntecedentMeans(monthly_data, 3)\n",
        "\n",
        "# Function to perform kNN and find analogs, appending results to a dataframe (more features)\n",
        "find_analogs_for_month_and_lead <- function(historic_data, forecast_data, month, lead_month, k) {\n",
        "\n",
        "  results_df <- data.frame()\n",
        "\n",
        "  # For each entry in forecast_data, filter out the matching year in historic_data\n",
        "  for (i in seq_len(nrow(forecast_data))) {\n",
        "    forecast_row <- forecast_data[i, ]\n",
        "\n",
        "    if (forecast_row$Month == month && forecast_row$lead_month == lead_month) {\n",
        "      # Exclude the forecast year from the historic data\n",
        "      historic_filtered <- na.omit(historic_data[historic_data$Month == month & historic_data$Year != forecast_row$Year, ])\n",
        "\n",
        "      obs_cols_historic <- grep(\"_obs$\", names(historic_filtered), value = TRUE)\n",
        "      if (!all(sapply(historic_filtered[, obs_cols_historic], is.numeric))) {\n",
        "        stop(\"Non-numeric data found in historic_filtered.\")\n",
        "      }\n",
        "\n",
        "      # Prepare the matrices for kNN\n",
        "      historic_matrix <- historic_filtered %>%\n",
        "        select(contains(\"_obs\")) %>%\n",
        "        data.matrix()\n",
        "\n",
        "      forecast_matrix <- forecast_row %>%\n",
        "        dplyr::select(contains(\"_for\")) %>%\n",
        "        data.matrix()\n",
        "\n",
        "      if (ncol(historic_matrix) != ncol(forecast_matrix)) {\n",
        "        stop(\"Number of features in historic and forecast data does not match.\")\n",
        "      }\n",
        "\n",
        "      # Perform kNN\n",
        "      knn_result <- get.knnx(historic_matrix, forecast_matrix, k = k)\n",
        "\n",
        "      # Normalize weights for the current forecast row\n",
        "      analog_distances <- knn_result$nn.dist[1, ]\n",
        "      analog_weights <- 1 / (analog_distances + 1e-5)\n",
        "\n",
        "      # Calculate distances and weights for the current forecast's analogs\n",
        "      for (j in 1:k) {\n",
        "        analog_year <- historic_filtered$Year[knn_result$nn.index[1, j]]\n",
        "        results_df <- rbind(results_df, data.frame(\n",
        "          ForecastYear = forecast_row$Year,\n",
        "          Month = month,\n",
        "          LeadMonth = lead_month,\n",
        "          AnalogYear = analog_year,\n",
        "          Distance = analog_distances[j],\n",
        "          Weight = analog_weights[j],\n",
        "          Rank = j))\n",
        "      }\n",
        "    }\n",
        "  }\n",
        "\n",
        "  return(results_df)\n",
        "}\n",
        "\n",
        "find_analogs_for_season_and_lead <- function(historic_data, forecast_data, month, season, lead_month, k) {\n",
        "\n",
        "  results_df <- data.frame()\n",
        "\n",
        "  # Loop through each row of forecast data\n",
        "  for (i in seq_len(nrow(forecast_data))) {\n",
        "    forecast_row <- forecast_data[i, ]\n",
        "\n",
        "    if (forecast_row$Month == month && forecast_row$lead_month == lead_month) {\n",
        "      # Exclude the forecast year from the historic data\n",
        "      historic_filtered <- na.omit(historic_data[historic_data$Month == month & historic_data$Year != forecast_row$Year, ])\n",
        "\n",
        "      obs_cols_historic <- grep(\"_obs$\", names(historic_filtered), value = TRUE)\n",
        "      if (!all(sapply(historic_filtered[, obs_cols_historic], is.numeric))) {\n",
        "        stop(\"Non-numeric data found in historic_filtered.\")\n",
        "      }\n",
        "\n",
        "      # Prepare the matrices for kNN\n",
        "      historic_matrix <- historic_filtered %>%\n",
        "        select(contains(\"sd\")) %>%\n",
        "        select(-c(\"sd_dry_obs\", \"sd_normal_obs\", \"sd_monsoon_obs\")) %>%  # Keep only aggregated data\n",
        "        data.matrix()\n",
        "\n",
        "      forecast_matrix <- forecast_row %>%\n",
        "        select(contains(\"sd\")) %>%\n",
        "        select(-c(\"sd_dry_for\", \"sd_normal_for\", \"sd_monsoon_for\")) %>%  # Keep only aggregated data\n",
        "        data.matrix()\n",
        "\n",
        "      if (ncol(historic_matrix) != ncol(forecast_matrix)) {\n",
        "        stop(\"Number of features in historic and forecast data does not match.\")\n",
        "      }\n",
        "\n",
        "      # Perform kNN\n",
        "      knn_result <- get.knnx(historic_matrix, forecast_matrix, k = k)\n",
        "\n",
        "      # Loop through each forecast to extract and store results\n",
        "      analog_distances <- knn_result$nn.dist[1, ]\n",
        "      analog_weights <- 1 / (analog_distances + 1e-5)\n",
        "\n",
        "      for (j in 1:k) {\n",
        "        analog_year <- historic_filtered$Year[knn_result$nn.index[1, j]]\n",
        "        results_df <- rbind(results_df, data.frame(\n",
        "          ForecastYear = forecast_row$Year,\n",
        "          Month = month,\n",
        "          Season = season,\n",
        "          LeadMonth = lead_month,\n",
        "          AnalogYear = analog_year,\n",
        "          Distance = analog_distances[j],\n",
        "          Weight = analog_weights[j],\n",
        "          Rank = j))\n",
        "      }\n",
        "    }\n",
        "  }\n",
        "\n",
        "  return(results_df)\n",
        "}\n",
        "\n",
        "#The function mape calculates the Mean Absolute Percentage Error (MAPE)\n",
        "mape <- function(actual, predicted) {\n",
        "  mean(abs((actual - predicted) / actual), na.rm = TRUE) * 100\n",
        "}"
      ]
    },
    {
      "cell_type": "markdown",
      "metadata": {
        "id": "xqEHnF3IjmXp"
      },
      "source": [
        "# **Step 1: Configurtions**"
      ]
    },
    {
      "cell_type": "markdown",
      "metadata": {
        "id": "bF44iJTEHChT"
      },
      "source": [
        "**Define K: K is the number of nearest neighbors in kNN or the number of analog years used in the analysis.**"
      ]
    },
    {
      "cell_type": "code",
      "execution_count": null,
      "metadata": {
        "id": "8cWwyswrHB2D"
      },
      "outputs": [],
      "source": [
        "K = 10"
      ]
    },
    {
      "cell_type": "markdown",
      "metadata": {
        "id": "--K92Dl5k9Gr"
      },
      "source": [
        "**Define Hindcast and Historic(Reanalysis) Data Period for kNN analog search**"
      ]
    },
    {
      "cell_type": "code",
      "execution_count": null,
      "metadata": {
        "id": "-U5v3ZHZ01dw"
      },
      "outputs": [],
      "source": [
        "  forecast_years <- 1981:2023  #1981:2023 #1993:2021\n",
        "  historic_years <- 1985:2023   #1970:2023 increases forecast skill #1982:2018 decreases forecast skill"
      ]
    },
    {
      "cell_type": "markdown",
      "metadata": {
        "id": "TYiuaX37pojO"
      },
      "source": [
        "**Select the model SMYLE or ECMWF and upload reanalysis/hindcast WTs and streamflow data**"
      ]
    },
    {
      "cell_type": "code",
      "execution_count": null,
      "metadata": {
        "id": "TjBMv2vvpjK8"
      },
      "outputs": [],
      "source": [
        "ECMWF <- T  #If FALSE, it uploades SMYLE data\n",
        "\n",
        "if (ECMWF) {\n",
        "  model_dir <- \"ECMWF\"\n",
        "  if (!dir.exists(model_dir)) {\n",
        "    dir.create(model_dir)\n",
        "  }\n",
        "  system(\"gdown '1GMrN8ynFg0hDkf8MYmmrHauehzQkCmRa' -O /content/ECMWF/2.WT_combined_data.csv\")\n",
        " } else {\n",
        "  model_dir <- \"SMYLE\"\n",
        "\n",
        "  if (!dir.exists(model_dir)) {\n",
        "    dir.create(model_dir)\n",
        "  }\n",
        "  system(\"gdown '1mcSZZ2UCyRYjrse-P_cOGX920aj6nXDY' -O /content/SMYLE/2.WT_combined_data.csv\")\n",
        "}"
      ]
    },
    {
      "cell_type": "markdown",
      "metadata": {
        "id": "XartyrrwkqT-"
      },
      "source": [
        "**Define the predictor variables**"
      ]
    },
    {
      "cell_type": "code",
      "execution_count": null,
      "metadata": {
        "id": "wxFCHPsIYH6x"
      },
      "outputs": [],
      "source": [
        "clim_vars <- c(\"q\", \"tclw\", \"tcwv\")\n",
        "\n",
        "# Options: \"WT\", or any combination of \"q\", \"tclw\", \"tcwv\"\n",
        "#predictors <- \"\"\n",
        "predictors <- c(\"tclw\")\n",
        "#predictors <- c(\"q\")\n",
        "#predictors <- c(\"tcwv\")\n",
        "#predictors <- c(\"WT\")\n"
      ]
    },
    {
      "cell_type": "markdown",
      "metadata": {
        "id": "OGIARN_hpOsn"
      },
      "source": [
        "**Select the anecedent variables as a predictors** \\\n",
        "Currently, the best scenario is antecedent streamflow as predictor"
      ]
    },
    {
      "cell_type": "code",
      "execution_count": null,
      "metadata": {
        "id": "LVc7bW8sjaPz"
      },
      "outputs": [],
      "source": [
        "##Features list: WTs and climate variable never appear together in predictors pool\n",
        "\n",
        "#feature <- \"anteced_WT_features\"           #adding antecedent WTs to the monthly WTs predictors\n",
        "feature <- \"anteced_streamflow_features\"   #adding antecedent streamflow to the \"Baseline\"\n",
        "#feature <- \"all_features\"                  #adding both antecedent WTs and streamflow to the monthly WTs predictors\n",
        "#feature <- \"baseline\"                      #Baseline (monthly WTs or monthly climate variable predictor)\n"
      ]
    },
    {
      "cell_type": "markdown",
      "metadata": {
        "id": "5Jlid9J6qEl9"
      },
      "source": [
        "**Select region of interest to pull atmospheric variables** \\\n",
        "Currenly, the best scenario is AZ_West"
      ]
    },
    {
      "cell_type": "code",
      "execution_count": null,
      "metadata": {
        "id": "Z3_Tf8EppN6t"
      },
      "outputs": [],
      "source": [
        "# Select WTs region and interested gage or Resevoir/Dam name.\n",
        "combinations <- data.frame(\n",
        "  region = c(\"AZ_West\", \"AZ_West\"),  #region : \"AZ_East\", \"AZ_West\"\n",
        "  gage = c(\"Glen_Hoover\", \"Total_Below_Parker\")  #gages: Total_Below_Parker, Glen_Hoover\n",
        ")"
      ]
    },
    {
      "cell_type": "markdown",
      "metadata": {
        "id": "57JM92eEM6k2"
      },
      "source": [
        "**Determine if including the aggregated months (seasonal) WTs as predictor** \\\n",
        "Currently, the best scenario is single monthly WTs predictor"
      ]
    },
    {
      "cell_type": "code",
      "execution_count": null,
      "metadata": {
        "colab": {
          "base_uri": "https://localhost:8080/"
        },
        "id": "-yR4D3K9gMtV",
        "outputId": "7e9c9607-e099-4121-ff5a-b5e25092b2aa"
      },
      "outputs": [
        {
          "output_type": "stream",
          "name": "stderr",
          "text": [
            "AGGREGATE set to FALSE. WT has been dropped from predictors as predictors are either in clim_vars or empty.\n",
            "\n"
          ]
        }
      ],
      "source": [
        "AGGREGATE <- F # If TRUE, Seasonal or aggregated WT will be used as a predictor, the default is FALSE.\n",
        "\n",
        "if (any(predictors %in% clim_vars) || predictors == \"\") {\n",
        "  AGGREGATE <- FALSE\n",
        "  predictors <- predictors[!predictors %in% 'WT']\n",
        "  message(\"AGGREGATE set to FALSE. WT has been dropped from predictors as predictors are either in clim_vars or empty.\")\n",
        "} else if (AGGREGATE) {\n",
        "  # If AGGREGATE is TRUE, set the predictors to 'WT'\n",
        "  predictors <- c('WT')\n",
        "} else {\n",
        "  message(\"No changes made to predictors as AGGREGATE is FALSE and WT is not in predictors.\")\n",
        "}\n"
      ]
    },
    {
      "cell_type": "markdown",
      "metadata": {
        "id": "3myj26a5sJD1"
      },
      "source": [
        "## Download input data"
      ]
    },
    {
      "cell_type": "markdown",
      "metadata": {
        "id": "irXLPRjbhkSg"
      },
      "source": [
        "**Weather Type data**"
      ]
    },
    {
      "cell_type": "code",
      "execution_count": null,
      "metadata": {
        "colab": {
          "base_uri": "https://localhost:8080/",
          "height": 34
        },
        "id": "lHsLGQYWS-iZ",
        "outputId": "d3dcc7b7-43f8-421b-be63-03b7a3e0a565"
      },
      "outputs": [
        {
          "output_type": "display_data",
          "data": {
            "text/html": [
              "<style>\n",
              ".list-inline {list-style: none; margin:0; padding: 0}\n",
              ".list-inline>li {display: inline-block}\n",
              ".list-inline>li:not(:last-child)::after {content: \"\\00b7\"; padding: 0 .5ex}\n",
              "</style>\n",
              "<ol class=list-inline><li>'5_combined_forecast_variables.csv'</li><li>'BORInterveningFlowsData1971-2022_NFDextensionv2.xlsx'</li><li>'ECMWF'</li><li>'ERA_q_regional.csv'</li><li>'ERA_tclw_regional.csv'</li><li>'ERA_tcwv_regional.csv'</li><li>'sample_data'</li><li>'SMYLE'</li></ol>\n"
            ],
            "text/markdown": "1. '5_combined_forecast_variables.csv'\n2. 'BORInterveningFlowsData1971-2022_NFDextensionv2.xlsx'\n3. 'ECMWF'\n4. 'ERA_q_regional.csv'\n5. 'ERA_tclw_regional.csv'\n6. 'ERA_tcwv_regional.csv'\n7. 'sample_data'\n8. 'SMYLE'\n\n\n",
            "text/latex": "\\begin{enumerate*}\n\\item '5\\_combined\\_forecast\\_variables.csv'\n\\item 'BORInterveningFlowsData1971-2022\\_NFDextensionv2.xlsx'\n\\item 'ECMWF'\n\\item 'ERA\\_q\\_regional.csv'\n\\item 'ERA\\_tclw\\_regional.csv'\n\\item 'ERA\\_tcwv\\_regional.csv'\n\\item 'sample\\_data'\n\\item 'SMYLE'\n\\end{enumerate*}\n",
            "text/plain": [
              "[1] \"5_combined_forecast_variables.csv\"                   \n",
              "[2] \"BORInterveningFlowsData1971-2022_NFDextensionv2.xlsx\"\n",
              "[3] \"ECMWF\"                                               \n",
              "[4] \"ERA_q_regional.csv\"                                  \n",
              "[5] \"ERA_tclw_regional.csv\"                               \n",
              "[6] \"ERA_tcwv_regional.csv\"                               \n",
              "[7] \"sample_data\"                                         \n",
              "[8] \"SMYLE\"                                               "
            ]
          },
          "metadata": {}
        }
      ],
      "source": [
        "# List files in your Google Drive\n",
        "list.files('/content/')"
      ]
    },
    {
      "cell_type": "code",
      "execution_count": null,
      "metadata": {
        "colab": {
          "base_uri": "https://localhost:8080/"
        },
        "id": "fFx-egRii4Cz",
        "outputId": "a3b76b2c-0849-4abd-d2f9-f188888cf29c"
      },
      "outputs": [
        {
          "output_type": "stream",
          "name": "stdout",
          "text": [
            "  YYYYMM dry.obs normal.obs monsoon.obs Year Month  region lead_date dry.for\n",
            "1 197006      26          4           0 1970     6 AZ_East        NA      NA\n",
            "2 197007       1         19          11 1970     7 AZ_East        NA      NA\n",
            "3 197008       0         13          18 1970     8 AZ_East        NA      NA\n",
            "4 197009      17         12           1 1970     9 AZ_East        NA      NA\n",
            "5 197010      28          3           0 1970    10 AZ_East        NA      NA\n",
            "6 197106      30          0           0 1971     6 AZ_East        NA      NA\n",
            "  normal.for monsoon.for lead_month\n",
            "1         NA          NA         NA\n",
            "2         NA          NA         NA\n",
            "3         NA          NA         NA\n",
            "4         NA          NA         NA\n",
            "5         NA          NA         NA\n",
            "6         NA          NA         NA\n"
          ]
        }
      ],
      "source": [
        "weather_data <- read.csv(paste0(\"/content/\", model_dir,'/', '2.WT_combined_data.csv'))\n",
        "print(head(weather_data))"
      ]
    },
    {
      "cell_type": "markdown",
      "metadata": {
        "id": "dr9s6O4Cw9m2"
      },
      "source": [
        "**Download streamflow data**"
      ]
    },
    {
      "cell_type": "code",
      "execution_count": null,
      "metadata": {
        "id": "QOIN4113w6iF"
      },
      "outputs": [],
      "source": [
        "system(\"gdown 'https://drive.google.com/uc?id=1jvLtMe7mWoG6KO9fm5tmeDeH3wJxTvY_' -O /content/BORInterveningFlowsData1971-2022_NFDextensionv2.xlsx\")"
      ]
    },
    {
      "cell_type": "code",
      "execution_count": null,
      "metadata": {
        "colab": {
          "base_uri": "https://localhost:8080/"
        },
        "id": "KaP2c0PXMN1C",
        "outputId": "4aa69d9b-3abd-495c-ca6b-9158a0fbc8b9"
      },
      "outputs": [
        {
          "output_type": "stream",
          "name": "stdout",
          "text": [
            "\u001b[90m# A tibble: 6 × 7\u001b[39m\n",
            "  Date                Month  Year Glen_Hoover Parker_Imperial Imperial_Mex\n",
            "  \u001b[3m\u001b[90m<dttm>\u001b[39m\u001b[23m              \u001b[3m\u001b[90m<dbl>\u001b[39m\u001b[23m \u001b[3m\u001b[90m<dbl>\u001b[39m\u001b[23m       \u001b[3m\u001b[90m<dbl>\u001b[39m\u001b[23m           \u001b[3m\u001b[90m<dbl>\u001b[39m\u001b[23m        \u001b[3m\u001b[90m<dbl>\u001b[39m\u001b[23m\n",
            "\u001b[90m1\u001b[39m 1971-01-31 \u001b[90m00:00:00\u001b[39m     1  \u001b[4m1\u001b[24m971       \u001b[4m9\u001b[24m\u001b[4m6\u001b[24m442          -\u001b[31m\u001b[4m1\u001b[24m\u001b[4m3\u001b[24m0\u001b[39m\u001b[31m20\u001b[39m           \u001b[31mNA\u001b[39m\n",
            "\u001b[90m2\u001b[39m 1971-02-28 \u001b[90m00:00:00\u001b[39m     2  \u001b[4m1\u001b[24m971      -\u001b[31m\u001b[4m1\u001b[24m\u001b[4m6\u001b[24m2\u001b[39m\u001b[31m41\u001b[39m          -\u001b[31m\u001b[4m4\u001b[24m\u001b[4m8\u001b[24m4\u001b[39m\u001b[31m73\u001b[39m           \u001b[31mNA\u001b[39m\n",
            "\u001b[90m3\u001b[39m 1971-03-31 \u001b[90m00:00:00\u001b[39m     3  \u001b[4m1\u001b[24m971        \u001b[4m5\u001b[24m506          -\u001b[31m\u001b[4m6\u001b[24m\u001b[4m0\u001b[24m3\u001b[39m\u001b[31m75\u001b[39m           \u001b[31mNA\u001b[39m\n",
            "\u001b[90m4\u001b[39m 1971-04-30 \u001b[90m00:00:00\u001b[39m     4  \u001b[4m1\u001b[24m971      -\u001b[31m\u001b[4m2\u001b[24m\u001b[4m5\u001b[24m6\u001b[39m\u001b[31m91\u001b[39m           -\u001b[31m\u001b[4m7\u001b[24m70\u001b[39m\u001b[31m2\u001b[39m           \u001b[31mNA\u001b[39m\n",
            "\u001b[90m5\u001b[39m 1971-05-31 \u001b[90m00:00:00\u001b[39m     5  \u001b[4m1\u001b[24m971       \u001b[4m4\u001b[24m\u001b[4m9\u001b[24m182          -\u001b[31m\u001b[4m2\u001b[24m\u001b[4m7\u001b[24m3\u001b[39m\u001b[31m42\u001b[39m           \u001b[31mNA\u001b[39m\n",
            "\u001b[90m6\u001b[39m 1971-06-30 \u001b[90m00:00:00\u001b[39m     6  \u001b[4m1\u001b[24m971       \u001b[4m2\u001b[24m\u001b[4m1\u001b[24m035          -\u001b[31m\u001b[4m4\u001b[24m\u001b[4m6\u001b[24m6\u001b[39m\u001b[31m18\u001b[39m           \u001b[31mNA\u001b[39m\n",
            "\u001b[90m# ℹ 1 more variable: Total_Below_Parker <dbl>\u001b[39m\n"
          ]
        }
      ],
      "source": [
        "streamflow_data_obs <- read_excel(\"/content/BORInterveningFlowsData1971-2022_NFDextensionv2.xlsx\", sheet = \"Summary Data\")\n",
        "print(head(streamflow_data_obs))"
      ]
    },
    {
      "cell_type": "markdown",
      "metadata": {
        "id": "mnD8kyYurWA9"
      },
      "source": [
        "**Download ECMWF forecasted and ERA5.1 reanalysis**"
      ]
    },
    {
      "cell_type": "code",
      "execution_count": null,
      "metadata": {
        "id": "6QQxcFx_gtVt"
      },
      "outputs": [],
      "source": [
        " # Define the climate variables\n",
        "  clim_vars <- c(\"q\", \"tclw\", \"tcwv\")\n",
        "\n",
        "  if (any(predictors %in% clim_vars)) {\n",
        "    # Read and process the forecast variables\n",
        "    system(\"gdown 'https://drive.google.com/uc?id=10g9FyL6ongiESzuADnRrVi4WwFea-GZi' -O /content/5_combined_forecast_variables.csv\")\n",
        "    forecast_var <- read_csv(\"/content/5_combined_forecast_variables.csv\", show_col_types = FALSE)\n",
        "    forecast_var <- rename(forecast_var, lead_month = init_Month)\n",
        "    forecast_var$lead_month <- as.numeric(forecast_var$lead_month)\n",
        "    forecast_var <- rename(forecast_var, region = Region)\n",
        "\n",
        "    # Download ERA reanalysis climate variables\n",
        "    system(\"gdown 'https://drive.google.com/uc?id=1keSg1hFPEVQxWyqS4ONEDNs-aaIlGFte' -O /content/ERA_tclw_regional.csv\")  # tclw\n",
        "    system(\"gdown 'https://drive.google.com/uc?id=1-DqN4uIILKEmZ0jk7jSIg4LLeZ-vhO5o' -O /content/ERA_q_regional.csv\")    # q\n",
        "    system(\"gdown 'https://drive.google.com/uc?id=1opBJp6hieUF9vvxfpSnSFZqMp1LXjUM0' -O /content/ERA_tcwv_regional.csv\")  # tcwv\n",
        "\n",
        "    # Ensure weather_data's lead_month is also numeric\n",
        "    if (\"lead_month\" %in% names(weather_data)) {\n",
        "      weather_data$lead_month <- as.numeric(weather_data$lead_month)\n",
        "    }\n",
        "\n",
        "    # Process each predictor dynamically, excluding \"WT\"\n",
        "    for (pred in predictors) {\n",
        "      if (pred != \"WT\") {\n",
        "\n",
        "        file_path <- paste0(\"/content/ERA_\", pred, \"_regional.csv\")\n",
        "        if (file.exists(file_path)) {\n",
        "          era_data <- read_csv(file_path, show_col_types = FALSE)\n",
        "          era_data <- rename(era_data, region = Region)\n",
        "\n",
        "          # Merge ERA data with weather data for observations\n",
        "          weather_data <- left_join(weather_data, era_data[, c(\"Year\", \"Month\", \"region\", pred)], by = c(\"Year\", \"Month\", \"region\"))\n",
        "\n",
        "          # Rename observation columns dynamically only if it doesn't already exist\n",
        "          var_obs <- paste0(pred, \"_obs\")\n",
        "          if (!(var_obs %in% names(weather_data))) {\n",
        "            weather_data <- rename(weather_data, !!var_obs := all_of(pred))\n",
        "          }\n",
        "\n",
        "          # Merge with forecast data\n",
        "          weather_data <- left_join(weather_data, forecast_var[, c(\"Year\", \"Month\", \"region\", \"lead_month\", pred)], by = c(\"Year\", \"Month\", \"region\", \"lead_month\"))\n",
        "\n",
        "          # Rename forecast columns dynamically only if it doesn't already exist\n",
        "          var_for <- paste0(pred, \"_for\")\n",
        "          if (!(var_for %in% names(weather_data))) {\n",
        "            weather_data <- rename(weather_data, !!var_for := all_of(pred))\n",
        "          }\n",
        "        } else {\n",
        "          message(paste(\"Warning: File not found:\", file_path))\n",
        "        }\n",
        "      }\n",
        "    }\n",
        "  }\n",
        "\n",
        "processed_weather_data <- weather_data"
      ]
    },
    {
      "cell_type": "markdown",
      "metadata": {
        "id": "ZRdMETjU3aBL"
      },
      "source": [
        "# **Step 2: Data preparation for kNN analysis**\n",
        "\n",
        "Target year period and search pool length should be defined in Step1, below function. Currently, they are: \\\n",
        "  forecast_years : 1981:2023  \\\n",
        "  historic_years :  1970:2023  \\"
      ]
    },
    {
      "cell_type": "code",
      "execution_count": null,
      "metadata": {
        "id": "XuBEUJvgkE6c"
      },
      "outputs": [],
      "source": [
        "# Function to standardize data by Month and lead_month\n",
        "\n",
        "# Standardize weather type\n",
        " baseline <- processed_weather_data %>%\n",
        "   group_by(region) %>%\n",
        "   mutate(\n",
        "     sd_dry_for = ifelse(is.na(dry.for), NA, standardize(dry.for)),\n",
        "     sd_normal_for = ifelse(is.na(normal.for), NA, standardize(normal.for)),\n",
        "     sd_monsoon_for = ifelse(is.na(monsoon.for), NA, standardize(monsoon.for)),\n",
        "     sd_dry_obs = ifelse(is.na(dry.obs), NA, standardize(dry.obs)),\n",
        "     sd_normal_obs = ifelse(is.na(normal.obs), NA, standardize(normal.obs)),\n",
        "     sd_monsoon_obs = ifelse(is.na(monsoon.obs), NA, standardize(monsoon.obs))\n",
        "   ) %>%\n",
        "  ungroup()\n",
        "\n",
        "# Remove any NULL columns that were added due to non-existent variables\n",
        "baseline <- baseline %>%\n",
        "  select_if(~ !is.null(.))\n",
        "##############################################################################################\n",
        "# Step 2: Add antecedent WT features after standardizing\n",
        "conditions <- c(\"sd_dry\", \"sd_normal\", \"sd_monsoon\")\n",
        "suffixes <- c(\"for\", \"obs\")\n",
        "\n",
        "anteced_WT_features <- baseline\n",
        "\n",
        "for (condition in conditions) {\n",
        "  for (suffix in suffixes) {\n",
        "    for (n in 1:3) {\n",
        "      column_name <- paste(\"ant\", condition, n, \"mean_m\", suffix, sep = \"_\")\n",
        "      original_column_name <- paste(condition, suffix, sep = \"_\")\n",
        "\n",
        "      # Apply the AntecedentMeans function to each condition and suffix combination\n",
        "      if (original_column_name %in% names(anteced_WT_features)) {\n",
        "        anteced_WT_features <- anteced_WT_features %>%\n",
        "          group_by(region, Month, lead_month) %>%  # Group by region, month, and lead month\n",
        "          mutate(!!sym(column_name) := AntecedentMeans(get(original_column_name), n)) %>%\n",
        "          ungroup()\n",
        "      }\n",
        "    }\n",
        "  }\n",
        "}\n",
        "\n",
        "#############################################################################################\n",
        "if (any(predictors %in% clim_vars)) {\n",
        "  # Create a copy of the original data frame\n",
        "  climvar_st_features <- processed_weather_data\n",
        "\n",
        "  # Step 1: Prepare the list of columns to standardize\n",
        "  new_cols <- c()  # Initialize a vector to store the names of columns to standardize\n",
        "\n",
        "  for (pred in predictors) {\n",
        "    obs_col <- paste0(pred, \"_obs\")\n",
        "    for_col <- paste0(pred, \"_for\")\n",
        "\n",
        "    # Directly add the columns to standardize\n",
        "    new_cols <- c(new_cols, obs_col, for_col)\n",
        "  }\n",
        "\n",
        "  # Step 2: Standardize the specified columns by Month and Region\n",
        "  climvar_st_features <- climvar_st_features %>%\n",
        "    group_by(Month, region) %>%  # Group by Month and Region\n",
        "    mutate(\n",
        "      across(all_of(new_cols), ~ ifelse(is.na(.), NA, standardize(.)), .names = \"sd_{col}\")\n",
        "    ) %>%\n",
        "    ungroup()  # Remove grouping\n",
        "\n",
        "  # Update baseline with standardized climate variable features\n",
        "  baseline <- climvar_st_features\n",
        "}\n",
        "\n",
        "baseline <- baseline %>%\n",
        "  select_if(~ !is.null(.))\n",
        "###############################################################################################\n",
        "# Streamflow data processing\n",
        "new_names <- c(\"Glen_Hoover\", \"Parker_Imperial\", \"Imperial_Mex\", \"Total_Below_Parker\")\n",
        "\n",
        "# Reshape the streamflow data to a long format\n",
        "streamflow_data_long <- streamflow_data_obs %>%\n",
        "  pivot_longer(\n",
        "    cols = all_of(new_names),\n",
        "    names_to = \"Gage\",\n",
        "    values_to = \"Observation\"\n",
        "  )\n",
        "\n",
        "# Group by Gage for standardization\n",
        "streamflow_features <- streamflow_data_long %>%\n",
        "  group_by(Gage) %>%  # Group by Gage and Month\n",
        "  mutate(\n",
        "    # Apply standardization to antecedent mean flows\n",
        "    ant_sd_flow_mean_1_obs = standardize(AntecedentMeans(Observation, 1)),\n",
        "    ant_sd_flow_mean_2_obs = standardize(AntecedentMeans(Observation, 2)),\n",
        "    ant_sd_flow_mean_3_obs = standardize(AntecedentMeans(Observation, 3)),\n",
        "    ant_sd_flow_mean_1_for = standardize(AntecedentMeans(Observation, 1)),\n",
        "    ant_sd_flow_mean_2_for = standardize(AntecedentMeans(Observation, 2)),\n",
        "    ant_sd_flow_mean_3_for = standardize(AntecedentMeans(Observation, 3))\n",
        "  ) %>%\n",
        "  ungroup()  # Remove the grouping after standardization"
      ]
    },
    {
      "cell_type": "code",
      "execution_count": null,
      "metadata": {
        "id": "e0wBwPaavF4u"
      },
      "outputs": [],
      "source": [
        "# prepare_predictors <- function(baseline, streamflow_features, anteced_WT_features, region, gage, predictors) {\n",
        "\n",
        "#   baseline_reg <- baseline[baseline$region == region, ]\n",
        "#   baseline_reg <- as.data.frame(baseline_reg)\n",
        "#   anteced_WT_features_reg <- anteced_WT_features[anteced_WT_features$region == region, ]\n",
        "#   anteced_WT_features_reg <- as.data.frame(anteced_WT_features_reg)\n",
        "\n",
        "#   streamflow_features_gage <- streamflow_features[streamflow_features$Gage == gage, ]\n",
        "#   streamflow_features_gage <- as.data.frame(streamflow_features_gage)\n",
        "\n",
        "#   # Combine with streamflow features\n",
        "#   all_features <- anteced_WT_features_reg %>%\n",
        "#     left_join(streamflow_features_gage, by = c(\"Year\", \"Month\")) %>%\n",
        "#     as.data.frame()\n",
        "\n",
        "#   # Exclude Antecedent WTs\n",
        "#   streamflow_features_WT <- baseline_reg %>%\n",
        "#     left_join(streamflow_features_gage, by = c(\"Year\", \"Month\")) %>%\n",
        "#     as.data.frame()\n",
        "\n",
        "#  # Step 7: Determine which feature set to use and write to CSV\n",
        "#   if (feature == \"anteced_WT_features\") {\n",
        "#     features <- anteced_WT_features_reg\n",
        "#     write.csv(features, file.path(\"/content\", model_dir, paste0(\"4.Anteced_WT_features_\", region, \"_\", gage, \".csv\")))\n",
        "#   } else if (feature == \"all_features\") {\n",
        "#     features <- all_features\n",
        "#     write.csv(features, file.path(\"/content\", model_dir, paste0(\"4.All_Features_\", region, \"_\", gage, \".csv\")))\n",
        "#   } else if (feature == \"anteced_streamflow_features\") {\n",
        "#     features <- streamflow_features_WT\n",
        "#     write.csv(features, file.path(\"/content\", model_dir, paste0(\"4.Anteced_streamflow_features_\", region, \"_\", gage, \".csv\")))\n",
        "#   } else {\n",
        "#     if (!\"WT\" %in% predictors) {\n",
        "#       features <- baseline_reg\n",
        "#       write.csv(features, file.path(\"/content\", model_dir, paste0(\"4.Baseline_Climvar_Features_\", region, \"_\", gage, \".csv\")))\n",
        "#     } else {\n",
        "#       features <- baseline_reg\n",
        "#       write.csv(features, file.path(\"/content\", model_dir, paste0(\"4.Baseline_WT_Features_\", region, \"_\", gage, \".csv\")))\n",
        "#     }\n",
        "#   }\n",
        "\n",
        "#   return(features)\n",
        "# }\n"
      ]
    },
    {
      "cell_type": "code",
      "execution_count": null,
      "metadata": {
        "id": "cIGtVeiQ4F-f"
      },
      "outputs": [],
      "source": [
        "prepare_predictors <- function(baseline, streamflow_features, anteced_WT_features, region, gage, predictors) {\n",
        "\n",
        "  baseline_reg <- baseline[baseline$region == region, ]\n",
        "  baseline_reg <- as.data.frame(baseline_reg)\n",
        "\n",
        "  anteced_WT_features_reg <- anteced_WT_features[anteced_WT_features$region == region, ]\n",
        "  anteced_WT_features_reg <- as.data.frame(anteced_WT_features_reg)\n",
        "\n",
        "  streamflow_features_gage <- streamflow_features[streamflow_features$Gage == gage, ]\n",
        "  streamflow_features_gage <- as.data.frame(streamflow_features_gage)\n",
        "\n",
        "  # Combine antecedent WT features with streamflow features\n",
        "  all_features <- anteced_WT_features_reg %>%\n",
        "    left_join(streamflow_features_gage, by = c(\"Year\", \"Month\")) %>%\n",
        "    as.data.frame()\n",
        "\n",
        "  # Combine baseline with streamflow features (excluding antecedent WTs)\n",
        "  streamflow_features_WT <- baseline_reg %>%\n",
        "    left_join(streamflow_features_gage, by = c(\"Year\", \"Month\")) %>%\n",
        "    as.data.frame()\n",
        "\n",
        "# Step 7: Determine which feature set to use and write to CSV\n",
        "  if (length(predictors) == 0 || all(predictors == \"\")) {\n",
        "    # If no predictors are specified, use streamflow_features (antecedent streamflow)\n",
        "    features <- streamflow_features_WT[, !grepl(\"dry|monsoon|normal\", names(streamflow_features_WT))]\n",
        "    write.csv(features, file.path(\"/content\", model_dir, paste0(\"4.Streamflow_Features_\", region, \"_\", gage, \".csv\")))\n",
        "\n",
        "  } else if (feature == \"anteced_WT_features\") {\n",
        "    features <- anteced_WT_features_reg\n",
        "    write.csv(features, file.path(\"/content\", model_dir, paste0(\"4.Anteced_WT_features_\", region, \"_\", gage, \".csv\")))\n",
        "\n",
        "  } else if (feature == \"all_features\") {\n",
        "    features <- all_features\n",
        "    write.csv(features, file.path(\"/content\", model_dir, paste0(\"4.All_Features_\", region, \"_\", gage, \".csv\")))\n",
        "\n",
        "  } else if (feature == \"anteced_streamflow_features\") {\n",
        "    features <- streamflow_features_WT\n",
        "    write.csv(features, file.path(\"/content\", model_dir, paste0(\"4.Anteced_streamflow_WT_features_\", region, \"_\", gage, \".csv\")))\n",
        "\n",
        "  } else if (any(predictors %in% clim_vars)) {\n",
        "    # If any climate variables (q, tclw, tcwv) are in predictors, use baseline for climate variables\n",
        "    features <- baseline_reg\n",
        "    write.csv(features, file.path(\"/content\", model_dir, paste0(\"4.Baseline_Climvar_Features_\", region, \"_\", gage, \".csv\")))\n",
        "\n",
        "  } else if (\"WT\" %in% predictors) {\n",
        "    # If \"WT\" is in predictors, use baseline for WT\n",
        "    features <- baseline_reg\n",
        "    write.csv(features, file.path(\"/content\", model_dir, paste0(\"4.Baseline_WT_Features_\", region, \"_\", gage, \".csv\")))\n",
        "  }\n",
        "\n",
        "  return(features)\n",
        "}\n"
      ]
    },
    {
      "cell_type": "markdown",
      "metadata": {
        "id": "nDfJw1bdPBfE"
      },
      "source": [
        "**2.LCRB_Analog_streamflow_prediction.R**"
      ]
    },
    {
      "cell_type": "markdown",
      "metadata": {
        "id": "LYUFd8g1nhpR"
      },
      "source": [
        "Monthly WTs predictor"
      ]
    },
    {
      "cell_type": "code",
      "execution_count": null,
      "metadata": {
        "id": "Imbm-_IPOcWd"
      },
      "outputs": [],
      "source": [
        "# Monthly WTs predictors, AGGREGATE = FALSE\n",
        "\n",
        "perform_analog_analysis_singlemonth <- function(baseline, streamflow_features, anteced_WT_features, region, gage, forecast_years, historic_years, predictors, k=K) {\n",
        "\n",
        "  features <- prepare_predictors(baseline, streamflow_features, anteced_WT_features, region, gage, predictors)\n",
        "\n",
        "\n",
        "  # Data exploration: Correlation analysis and plotting monthly means\n",
        "  #perform_data_exploration(features)\n",
        "\n",
        "  unique_months <- c(6, 7, 8, 9, 10)\n",
        "\n",
        "  # Filter and prepare historic and forecast WTs data for kNN\n",
        "  historic_data <- prepare_data(features, historic_years, unique_months, obs = TRUE)\n",
        "  forecast_data <- prepare_data(features, forecast_years, unique_months, obs = FALSE)\n",
        "\n",
        "  #Step 2: kNN Analysis: Find 4 closest analog years ################################\n",
        "  target_months <- as.numeric(unique(forecast_data$Month))\n",
        "  target_lead_months <- as.numeric(unique(forecast_data$lead_month))\n",
        "\n",
        "  Analog_years <- data.frame()\n",
        "\n",
        "  for (month in target_months) {\n",
        "    for (lead_month in target_lead_months) {\n",
        "      Analog_years <- rbind(Analog_years, find_analogs_for_month_and_lead(historic_data, forecast_data, month, lead_month, k=K))\n",
        "    }\n",
        "  }\n",
        "\n",
        "  analog_year <- Analog_years %>%\n",
        "    mutate(Year = as.numeric(ForecastYear),\n",
        "           Month = as.numeric(Month),\n",
        "           Region = region)\n",
        "  write.csv(as.data.frame(analog_year), file.path(\"/content\", model_dir, paste0(\"5.Analog_years_\", region, \".csv\")))\n",
        "\n",
        "  # Step 3: Lookup Streamflow data to find analog streamflow for the selected gage ###############################\n",
        "  # Streamflow data processing\n",
        "  new_names <- c(\"Glen_Hoover\", \"Parker_Imperial\", \"Imperial_Mex\", \"Total_Below_Parker\")\n",
        "  streamflow_data_long <- streamflow_data_obs %>%\n",
        "    pivot_longer(\n",
        "      cols = all_of(new_names),\n",
        "      names_to = \"Gage\",\n",
        "      values_to = \"Observation\"\n",
        "    )\n",
        "\n",
        "streamflow_data_long_gage <- streamflow_data_long[streamflow_data_long$Gage %in% gage, ]\n",
        "\n",
        "  streamflow_data_long_gage <- streamflow_data_long[streamflow_data_long$Gage %in% gage,]\n",
        "  streamflow_with_analog <- as.data.frame(streamflow_data_long_gage %>%\n",
        "                                            rename(ForecastYear = Year) %>%\n",
        "                                            left_join(analog_year, by = c(\"ForecastYear\" = \"Year\", \"Month\")) %>%\n",
        "                                            filter(!is.na(AnalogYear)))\n",
        "\n",
        "  streamflow_with_analog$ID <- rownames(streamflow_with_analog)\n",
        "  write.csv(as.data.frame(streamflow_with_analog), file.path(\"/content\", model_dir, paste0(\"6.Streamflow_with_analog_\",region,\"_\", gage,\".csv\")))\n",
        "\n",
        "  return(streamflow_with_analog)\n",
        "}"
      ]
    },
    {
      "cell_type": "markdown",
      "metadata": {
        "id": "qjuzGFEcStdF"
      },
      "source": [
        "Aggregated WTs"
      ]
    },
    {
      "cell_type": "code",
      "execution_count": null,
      "metadata": {
        "id": "wTZzAXKmSrpF"
      },
      "outputs": [],
      "source": [
        "# Seasonal WTs predictors when AGGREAGATE= TRUE\n",
        "\n",
        "perform_analog_analysis_aggregated <- function(baseline, streamflow_features, anteced_WT_features, region, gage, forecast_years, historic_years, predictors, K) {\n",
        "  # Check if \"WT\" is in the predictors list, if not, stop and show an error message\n",
        "  if (!(\"WT\" %in% predictors)) {\n",
        "    stop(\"Error: 'WT' must be included in the predictors list for TRUE Aggregation condition.\")\n",
        "  }\n",
        "\n",
        "  features <- prepare_predictors(baseline, streamflow_features, anteced_WT_features, region, gage, predictors)\n",
        "\n",
        "  # Data exploration: Correlation analysis and plotting monthly means\n",
        "  #perform_data_exploration(features)\n",
        "\n",
        "  # Filter and prepare historic and forecast WTs data for kNN\n",
        "  unique_months <- c(6, 7, 8, 9, 10)\n",
        "\n",
        "  historic_data <- prepare_data(features, historic_years, unique_months, obs = TRUE)\n",
        "  forecast_data <- prepare_data(features, forecast_years, unique_months, obs = FALSE)\n",
        "\n",
        "  # Define season ranges and add seasonal labels\n",
        "  season_ranges <- list(\n",
        "    JJASO = 6:10, # June to October\n",
        "    JASO = 7:10,  # July to October\n",
        "    ASO = 8:10,   # August to October\n",
        "    SO = 9:10,    # September and October\n",
        "    Oct = 10      # October only\n",
        "  )\n",
        "\n",
        "  forecast_data <- forecast_data %>%\n",
        "    mutate(\n",
        "      monsoon_for_agg = 0,\n",
        "      dry_for_agg = 0,\n",
        "      normal_for_agg = 0\n",
        "    ) %>%\n",
        "    group_by(Year, lead_month) %>%\n",
        "    mutate(\n",
        "     # Add a season column based on Month\n",
        "    season = case_when(\n",
        "      Month %in% season_ranges$Oct ~ \"Oct\",        # October only\n",
        "      Month %in% season_ranges$SO ~ \"SO\",          # September and October\n",
        "      Month %in% season_ranges$ASO ~ \"ASO\",        # August to October\n",
        "      Month %in% season_ranges$JASO ~ \"JASO\",      # July to October\n",
        "      Month %in% season_ranges$JJASO ~ \"JJASO\",    # June to October\n",
        "      TRUE ~ \"Other\"\n",
        "    ),\n",
        "\n",
        "      # For each month, identify the season and sum over its range\n",
        "      monsoon_for_agg = case_when(\n",
        "        Month == 6 ~ sum(monsoon.for[Month %in% season_ranges$JJASO], na.rm = TRUE),\n",
        "        Month == 7 ~ sum(monsoon.for[Month %in% season_ranges$JASO], na.rm = TRUE),\n",
        "        Month == 8 ~ sum(monsoon.for[Month %in% season_ranges$ASO], na.rm = TRUE),\n",
        "        Month == 9 ~ sum(monsoon.for[Month %in% season_ranges$SO], na.rm = TRUE),\n",
        "        Month == 10 ~ sum(monsoon.for[Month %in% season_ranges$Oct], na.rm = TRUE),\n",
        "        TRUE ~ monsoon.for\n",
        "      ),\n",
        "      dry_for_agg = case_when(\n",
        "        Month == 6 ~ sum(dry.for[Month %in% season_ranges$JJASO], na.rm = TRUE),\n",
        "        Month == 7 ~ sum(dry.for[Month %in% season_ranges$JASO], na.rm = TRUE),\n",
        "        Month == 8 ~ sum(dry.for[Month %in% season_ranges$ASO], na.rm = TRUE),\n",
        "        Month == 9 ~ sum(dry.for[Month %in% season_ranges$SO], na.rm = TRUE),\n",
        "        Month == 10 ~ sum(dry.for[Month %in% season_ranges$Oct], na.rm = TRUE),\n",
        "        TRUE ~ dry.for\n",
        "      ),\n",
        "      normal_for_agg = case_when(\n",
        "        Month == 6 ~ sum(normal.for[Month %in% season_ranges$JJASO], na.rm = TRUE),\n",
        "        Month == 7 ~ sum(normal.for[Month %in% season_ranges$JASO], na.rm = TRUE),\n",
        "        Month == 8 ~ sum(normal.for[Month %in% season_ranges$ASO], na.rm = TRUE),\n",
        "        Month == 9 ~ sum(normal.for[Month %in% season_ranges$SO], na.rm = TRUE),\n",
        "        Month == 10 ~ sum(normal.for[Month %in% season_ranges$Oct], na.rm = TRUE),\n",
        "        TRUE ~ normal.for\n",
        "      )\n",
        "    ) %>%\n",
        "    ungroup()\n",
        "\n",
        "  historic_data <- historic_data %>%\n",
        "    mutate(\n",
        "      monsoon_obs_agg = 0,\n",
        "      dry_obs_agg = 0,\n",
        "      normal_obs_agg = 0\n",
        "    ) %>%\n",
        "    group_by(Year) %>%\n",
        "    mutate(\n",
        "     # Add a season column based on Month\n",
        "     season = case_when(\n",
        "      Month %in% season_ranges$Oct ~ \"Oct\",        # October only\n",
        "      Month %in% season_ranges$SO ~ \"SO\",          # September and October\n",
        "      Month %in% season_ranges$ASO ~ \"ASO\",        # August to October\n",
        "      Month %in% season_ranges$JASO ~ \"JASO\",      # July to October\n",
        "      Month %in% season_ranges$JJASO ~ \"JJASO\",    # June to October\n",
        "      TRUE ~ \"Other\"\n",
        "    ),\n",
        "      # For each month, identify the season and sum over its range\n",
        "      monsoon_obs_agg = case_when(\n",
        "        Month == 6 ~ sum(monsoon.obs[Month %in% season_ranges$JJASO], na.rm = TRUE),\n",
        "        Month == 7 ~ sum(monsoon.obs[Month %in% season_ranges$JASO], na.rm = TRUE),\n",
        "        Month == 8 ~ sum(monsoon.obs[Month %in% season_ranges$ASO], na.rm = TRUE),\n",
        "        Month == 9 ~ sum(monsoon.obs[Month %in% season_ranges$SO], na.rm = TRUE),\n",
        "        Month == 10 ~ sum(monsoon.obs[Month %in% season_ranges$Oct], na.rm = TRUE),\n",
        "        TRUE ~ monsoon.obs\n",
        "      ),\n",
        "      dry_obs_agg = case_when(\n",
        "        Month == 6 ~ sum(dry.obs[Month %in% season_ranges$JJASO], na.rm = TRUE),\n",
        "        Month == 7 ~ sum(dry.obs[Month %in% season_ranges$JASO], na.rm = TRUE),\n",
        "        Month == 8 ~ sum(dry.obs[Month %in% season_ranges$ASO], na.rm = TRUE),\n",
        "        Month == 9 ~ sum(dry.obs[Month %in% season_ranges$SO], na.rm = TRUE),\n",
        "        Month == 10 ~ sum(dry.obs[Month %in% season_ranges$Oct], na.rm = TRUE),\n",
        "        TRUE ~ dry.obs\n",
        "      ),\n",
        "      normal_obs_agg = case_when(\n",
        "        Month == 6 ~ sum(normal.obs[Month %in% season_ranges$JJASO], na.rm = TRUE),\n",
        "        Month == 7 ~ sum(normal.obs[Month %in% season_ranges$JASO], na.rm = TRUE),\n",
        "        Month == 8 ~ sum(normal.obs[Month %in% season_ranges$ASO], na.rm = TRUE),\n",
        "        Month == 9 ~ sum(normal.obs[Month %in% season_ranges$SO], na.rm = TRUE),\n",
        "        Month == 10 ~ sum(normal.obs[Month %in% season_ranges$Oct], na.rm = TRUE),\n",
        "        TRUE ~ normal.obs\n",
        "      )\n",
        "    ) %>%\n",
        "    ungroup()\n",
        "\n",
        "\n",
        "  # Standardize the data\n",
        "  historic_data <- historic_data %>%\n",
        "    mutate(across(c(dry_obs_agg, normal_obs_agg, monsoon_obs_agg),\n",
        "                  ~ ave(., list(season, region), FUN = standardize),\n",
        "                  .names = \"sd_{.col}\"))\n",
        "\n",
        "  forecast_data <- forecast_data %>%\n",
        "    mutate(across(c(dry_for_agg, normal_for_agg, monsoon_for_agg),\n",
        "                  ~ ave(., list(season, region, lead_month), FUN = standardize),\n",
        "                  .names = \"sd_{.col}\"))\n",
        "  ## End Step 2 ##############\n",
        "\n",
        "  # Step 3: kNN Analysis: Find 4 closest analog years ######################################\n",
        "  target_month <- as.numeric(unique(forecast_data$Month))\n",
        "  target_lead_months <- as.numeric(unique(forecast_data$lead_month))\n",
        "\n",
        "  Analog_years <- data.frame()\n",
        "\n",
        "  for (month in target_month) {\n",
        "    for (lead_month in target_lead_months) {\n",
        "      # Append the results from each function call to the main results dataframe\n",
        "      season = unique(historic_data$season[historic_data$Month == month])\n",
        "      Analog_years <- rbind(Analog_years, find_analogs_for_season_and_lead(historic_data,\n",
        "                                                                           forecast_data,\n",
        "                                                                           month,\n",
        "                                                                           season,\n",
        "                                                                           lead_month,\n",
        "                                                                           k=K))\n",
        "    }\n",
        "  }\n",
        "\n",
        "  analog_year <- Analog_years %>%\n",
        "    mutate(Year = as.numeric(ForecastYear),\n",
        "           Region = region)\n",
        "  write.csv(as.data.frame(analog_year), file.path(\"/content\", model_dir, paste0(\"5.Analog_years_\", region, \".csv\")))\n",
        "\n",
        "  # Step 4: Lookup Streamflow data to find analog streamflow for the selected gage ##########################################\n",
        "  # Streamflow data processing\n",
        "  new_names <- c(\"Glen_Hoover\", \"Parker_Imperial\", \"Imperial_Mex\", \"Total_Below_Parker\")\n",
        "  streamflow_data_long <- streamflow_data_obs %>%\n",
        "    pivot_longer(\n",
        "      cols = all_of(new_names),\n",
        "      names_to = \"Gage\",\n",
        "      values_to = \"Observation\"\n",
        "    )\n",
        "\n",
        "streamflow_data_long_gage <- streamflow_data_long[streamflow_data_long$Gage %in% gage, ]\n",
        "\n",
        "  streamflow_data_long_gage <- streamflow_data_long[streamflow_data_long$Gage %in% gage,]\n",
        "\n",
        "  streamflow_with_analog <- as.data.frame(streamflow_data_long_gage %>%\n",
        "                                            rename(ForecastYear = Year) %>%\n",
        "                                            left_join(analog_year, by = c(\"ForecastYear\" = \"Year\", \"Month\")) %>%\n",
        "                                            filter(!is.na(AnalogYear)))\n",
        "\n",
        "  streamflow_with_analog$ID <- rownames(streamflow_with_analog)\n",
        "  write.csv(as.data.frame(streamflow_with_analog), file.path(\"/content\", model_dir, paste0(\"6.Streamflow_with_analog_\",region,\"_\", gage,\".csv\")))\n",
        "  return(streamflow_with_analog)\n",
        "}"
      ]
    },
    {
      "cell_type": "code",
      "execution_count": null,
      "metadata": {
        "id": "t4zNt0JfM5f1"
      },
      "outputs": [],
      "source": [
        "if (AGGREGATE && all(predictors == \"WT\")) {\n",
        "  perform_analog_analysis <- perform_analog_analysis_aggregated\n",
        "} else {\n",
        "  perform_analog_analysis <- perform_analog_analysis_singlemonth\n",
        "}\n"
      ]
    },
    {
      "cell_type": "markdown",
      "metadata": {
        "id": "z7q3HwMa3Iga"
      },
      "source": [
        "# **Step 3: kNN Analysis: Find K closest analog years**"
      ]
    },
    {
      "cell_type": "code",
      "execution_count": null,
      "metadata": {
        "id": "JSJQuORt0nwl"
      },
      "outputs": [],
      "source": [
        "# Initialize an empty dataframe to store combined results\n",
        "combined_results <- data.frame()\n",
        "\n",
        "# Iterate over each combination and combine results\n",
        "for(i in 1:nrow(combinations)) {\n",
        "\n",
        "  current_region <- combinations$region[i]\n",
        "  current_gage <- combinations$gage[i]\n",
        "\n",
        "  # Perform the analog analysis\n",
        "    current_results <- perform_analog_analysis(baseline, streamflow_features, anteced_WT_features, current_region, current_gage, forecast_years, historic_years, predictors, K)\n",
        "\n",
        "  # Combine the results using bind_rows\n",
        "  combined_results <- bind_rows(combined_results, current_results)\n",
        "}\n",
        "\n",
        "combined_results$AnalogObservation <- NA\n",
        "\n",
        "# Loop through each row of combined_results to fill in Analog Observation\n",
        "for (j in 1:nrow(combined_results)) {\n",
        "  current_analog_year <- combined_results$AnalogYear[j]\n",
        "  current_month <- combined_results$Month[j]\n",
        "  current_region <- combined_results$Region[j]\n",
        "  current_gage <- combined_results$Gage[j]\n",
        "\n",
        "  # Find the matching Observation based on AnalogYear, Month, Region, and Gage\n",
        "  matching_observation_index <- which(combined_results$ForecastYear == current_analog_year &\n",
        "                                      combined_results$Month == current_month &\n",
        "                                      combined_results$Region == current_region &\n",
        "                                      combined_results$Gage == current_gage)\n",
        "\n",
        "  # If a matching observation is found, update the AnalogObservation column\n",
        "  if (length(matching_observation_index) > 0) {\n",
        "    combined_results$AnalogObservation[j] <- combined_results$Observation[matching_observation_index[1]]\n",
        "  }\n",
        "}\n",
        "\n",
        "# Save the combined results to a CSV file\n",
        "write.csv(combined_results, file.path(\"/content/\", model_dir, \"7.streamflow_with_analog_All_combinations.csv\"))"
      ]
    },
    {
      "cell_type": "markdown",
      "metadata": {
        "id": "grmhxEUd2_ti"
      },
      "source": [
        "# **Step 4: Evaluation Metrics: Calculate and print metrics for analog and reference evaluations (mean monthly and mean annual)**\n",
        "(3.Validation_metrics.R)"
      ]
    },
    {
      "cell_type": "code",
      "execution_count": null,
      "metadata": {
        "id": "kCKPg8wkBrD1"
      },
      "outputs": [],
      "source": [
        "# Choose to only export result of the best analog\n",
        "Best_Analog <- FALSE"
      ]
    },
    {
      "cell_type": "code",
      "execution_count": null,
      "metadata": {
        "id": "HDiQSwQPB1Wm"
      },
      "outputs": [],
      "source": [
        "# Selet the evaluation period\n",
        "# Currently, the best scenario is 1993-2023 (we dropped the 1972-1992)\n",
        "year_start_metrics <- 1993\n",
        "year_end_metrics <- 2021\n",
        "plot_dir <- paste0(\"/content/\",model_dir,\"/plot_output/\")\n",
        "\n",
        "if (!dir.exists(plot_dir)) {\n",
        "  dir.create(plot_dir)\n",
        "}"
      ]
    },
    {
      "cell_type": "code",
      "execution_count": null,
      "metadata": {
        "colab": {
          "base_uri": "https://localhost:8080/"
        },
        "id": "e2W1-IlnCZL7",
        "outputId": "6e4c82e3-a9fd-47a7-e14d-a418878b629d"
      },
      "outputs": [
        {
          "output_type": "stream",
          "name": "stderr",
          "text": [
            "\u001b[1m\u001b[22mNew names:\n",
            "\u001b[36m•\u001b[39m `` -> `...1`\n"
          ]
        },
        {
          "output_type": "stream",
          "name": "stdout",
          "text": [
            "[1] \"Glen_Hoover\"        \"Total_Below_Parker\"\n"
          ]
        }
      ],
      "source": [
        "# Load the analog years and forecasted streamflow along with historical streamflow, generated in the previous steps.\n",
        "streamflow_with_analog <- read_csv(paste0(\"/content/\",model_dir,\"/\", \"7.streamflow_with_analog_All_combinations.csv\"), show_col_types = FALSE)\n",
        "if (Best_Analog == TRUE){\n",
        "streamflow_with_analog <- streamflow_with_analog[streamflow_with_analog$Rank == 1,]\n",
        "}\n",
        "gages <- unique(streamflow_with_analog$Gage)\n",
        "print(gages)\n"
      ]
    },
    {
      "cell_type": "code",
      "execution_count": null,
      "metadata": {
        "id": "6etVwrink_Mj"
      },
      "outputs": [],
      "source": []
    },
    {
      "cell_type": "code",
      "execution_count": null,
      "metadata": {
        "id": "WoHHlKkN22di"
      },
      "outputs": [],
      "source": [
        "# Calculate Weighted Average Analog Streamflow\n",
        "streamflow_with_analog_WA <- streamflow_with_analog %>%\n",
        "  group_by(Gage, Region, ForecastYear, Month, LeadMonth) %>%\n",
        "  mutate(Weighted_Avg_AnalogStreamflow = sum(AnalogObservation * Weight, na.rm = TRUE) / sum(Weight, na.rm = TRUE)) %>%\n",
        "  ungroup() %>%\n",
        "  filter(!is.na(Weighted_Avg_AnalogStreamflow))\n"
      ]
    },
    {
      "cell_type": "markdown",
      "metadata": {
        "id": "3qWibraFFgqk"
      },
      "source": [
        "**Calculate Reference Moving Average and Evaluation Metrics**"
      ]
    },
    {
      "cell_type": "code",
      "execution_count": null,
      "metadata": {
        "id": "lIbyp_lmEItD"
      },
      "outputs": [],
      "source": [
        "\n",
        "streamflow_data <- streamflow_data_obs\n",
        "\n",
        "new_names <- c(\"Glen_Hoover\", \"Parker_Imperial\", \"Imperial_Mex\", \"Total_Below_Parker\")\n",
        "\n",
        "streamflow_data_long <- streamflow_data %>%\n",
        "  pivot_longer(\n",
        "    cols = all_of(new_names),\n",
        "    names_to = \"Gage\",\n",
        "    values_to = \"Observation\"\n",
        "  )\n",
        "\n",
        "streamflow_data_long <- streamflow_data_long %>%\n",
        "  filter(Gage %in% gages)\n",
        "\n",
        "# Calculate previous 5-year moving average\n",
        "streamflow_Reference <- streamflow_data_long %>%\n",
        "  arrange(Gage, Year, Month) %>%\n",
        "  group_by(Gage, Month) %>%\n",
        "  mutate(\n",
        "    Moving_Average = rollapply(Observation, width = 5, FUN = mean, by.column = TRUE, align = \"right\", fill = NA),\n",
        "    Prev_5Yr_Moving_Avg = lag(Moving_Average)\n",
        "  ) %>%\n",
        "  filter(!is.na(Prev_5Yr_Moving_Avg) & !is.na(Observation)) %>%\n",
        "  ungroup()\n",
        "\n",
        "# Evaluate data for the specified forecast years\n",
        "eval_data <- streamflow_with_analog_WA %>%\n",
        "  filter(ForecastYear >= year_start_metrics & ForecastYear <= year_end_metrics)\n",
        "\n",
        "# Calculate annual evaluation metrics\n",
        "Analog_evaluation_metrics_Annual <- eval_data %>%\n",
        "  group_by(Gage, Region, ForecastYear, Month, LeadMonth) %>%\n",
        "  summarise(\n",
        "    Annual_MAE = mae(Observation, Weighted_Avg_AnalogStreamflow),\n",
        "    Annual_RMSE = rmse(Observation, Weighted_Avg_AnalogStreamflow),\n",
        "    Annual_MAPE = mape(Observation, Weighted_Avg_AnalogStreamflow),\n",
        "    .groups = \"drop\"\n",
        "  )\n",
        "\n",
        "# Calculate monthly evaluation metrics\n",
        "Analog_evaluation_metrics_Monthly <- eval_data %>%\n",
        "  group_by(Gage, Region, Month, LeadMonth) %>%\n",
        "  summarise(\n",
        "    Monthly_MAE = mae(Observation, Weighted_Avg_AnalogStreamflow),\n",
        "    Monthly_RMSE = rmse(Observation, Weighted_Avg_AnalogStreamflow),\n",
        "    Monthly_MAPE = mape(Observation, Weighted_Avg_AnalogStreamflow),\n",
        "    .groups = \"drop\"\n",
        "  )"
      ]
    },
    {
      "cell_type": "code",
      "execution_count": null,
      "metadata": {
        "id": "RG2clJo-EK2z"
      },
      "outputs": [],
      "source": [
        "# Reference Evaluation: Annual and Monthly with additional metrics\n",
        "eval_ref <- streamflow_Reference %>%\n",
        "  filter(Year >= year_start_metrics & Year <= year_end_metrics)\n",
        "\n",
        "Ref_evaluation_metrics_Annual <- eval_ref %>%\n",
        "  group_by(Gage, Year, Month) %>%\n",
        "  summarise(\n",
        "    Annual_MAE = mae(Observation, Prev_5Yr_Moving_Avg),\n",
        "    Annual_RMSE = rmse(Observation, Prev_5Yr_Moving_Avg),\n",
        "    Annual_MAPE = mape(Observation, Prev_5Yr_Moving_Avg),\n",
        "    .groups = \"drop\"\n",
        "  )\n",
        "\n",
        "Ref_evaluation_metrics_Monthly <- eval_ref %>%\n",
        "  group_by(Gage, Month) %>%\n",
        "  summarise(\n",
        "    Monthly_MAE = mae(Observation, Prev_5Yr_Moving_Avg),\n",
        "    Monthly_RMSE = rmse(Observation, Prev_5Yr_Moving_Avg),\n",
        "    Monthly_MAPE = mape(Observation, Prev_5Yr_Moving_Avg),\n",
        "    .groups = \"drop\"\n",
        "  )"
      ]
    },
    {
      "cell_type": "code",
      "execution_count": null,
      "metadata": {
        "id": "VOSD4MYWEGMb"
      },
      "outputs": [],
      "source": [
        "write_csv(streamflow_Reference, paste0(\"/content/\",model_dir,\"/\",\"8.streamflow_Reference.csv\"))\n",
        "write_csv(streamflow_with_analog_WA, paste0(\"/content/\",model_dir,\"/\",\"9.streamflow_with_analog_WA.csv\"))\n",
        "write_csv(Analog_evaluation_metrics_Annual, paste0(\"/content/\",model_dir,\"/\",\"10.Analog_evaluation_metrics_Annual.csv\"))\n",
        "write_csv(Analog_evaluation_metrics_Monthly, paste0(\"/content/\",model_dir,\"/\",\"10.Analog_evaluation_metrics_Monthly.csv\"))\n",
        "write_csv(Ref_evaluation_metrics_Annual, paste0(\"/content/\",model_dir,\"/\",\"11.Ref_evaluation_metrics_Annual.csv\"))\n",
        "write_csv(Ref_evaluation_metrics_Monthly, paste0(\"/content/\",model_dir,\"/\",\"11.Ref_evaluation_metrics_Monthly.csv\"))"
      ]
    },
    {
      "cell_type": "markdown",
      "metadata": {
        "id": "Pn_KP7jm3hhT"
      },
      "source": [
        "# **Step 5: Visualize evaluation metrics and comparisons**\n"
      ]
    },
    {
      "cell_type": "code",
      "execution_count": null,
      "metadata": {
        "id": "5tBapy_bEddC"
      },
      "outputs": [],
      "source": [
        "# Join the data by Gage and Month if Region is not present in the reference data\n",
        "combined_metrics <- Ref_evaluation_metrics_Monthly %>%\n",
        "  full_join(Analog_evaluation_metrics_Monthly, by = c(\"Gage\", \"Month\"), suffix = c(\"_ref\", \"_pred\"))\n",
        "\n",
        "# Convert Month to a factor for ordered plotting\n",
        "combined_metrics$Month <- factor(combined_metrics$Month, levels = 1:12)\n",
        "\n",
        "# Filter for the months of interest (6, 7, 8, 9, 10)\n",
        "months_of_interest <- c(6, 7, 8, 9, 10)\n",
        "lead_months <- unique(combined_metrics$LeadMonth)\n",
        "if (ECMWF) {\n",
        "  lead_months <- lead_months[lead_months %in% c(NA, 4, 5, 6, 7, 8)]\n",
        "} else {\n",
        "  lead_months <- lead_months[lead_months %in% c(NA, 5, 8)]\n",
        "}\n",
        "\n",
        "combined_metrics <- combined_metrics %>%\n",
        "  filter(Month %in% months_of_interest & LeadMonth %in% lead_months)\n",
        "\n",
        "month_name_labeller <- as_labeller(c(`6` = \"June\", `7` = \"July\", `8` = \"August\", `9` = \"September\", `10` = \"October\"))\n",
        "\n",
        "combined_metrics <- combined_metrics %>%\n",
        "  mutate(LeadMonth = replace_na(as.character(LeadMonth), \"\"))\n",
        "\n",
        "combined_metrics <- combined_metrics %>%\n",
        "  mutate(Gage_Region = interaction(Gage, Region)) %>%\n",
        "  na.omit()\n",
        "write_csv(combined_metrics, paste0(\"/content/\",model_dir,\"/\",\"12.combined_metrics.csv\"))"
      ]
    },
    {
      "cell_type": "markdown",
      "metadata": {
        "id": "OMcfH549EtR7"
      },
      "source": [
        "# **Step 6: Create one image for each metric**"
      ]
    },
    {
      "cell_type": "markdown",
      "metadata": {
        "id": "qpSQKfWdHDfa"
      },
      "source": [
        "# Figures 3, 9-11"
      ]
    },
    {
      "cell_type": "code",
      "execution_count": null,
      "metadata": {
        "id": "neATxSxn6f4k",
        "colab": {
          "base_uri": "https://localhost:8080/",
          "height": 617
        },
        "outputId": "76528102-9bc0-4dcf-adaf-5ddef6cf636a"
      },
      "outputs": [
        {
          "output_type": "display_data",
          "data": {
            "text/plain": [
              "plot without title"
            ],
            "image/png": "[encoded data removed]"
          },
          "metadata": {
            "image/png": {
              "width": 960,
              "height": 600
            }
          }
        }
      ],
      "source": [
        "# Set the metrics to be evaluated\n",
        "metrics <- c(\"MAPE\", \"RMSE\")\n",
        "plot_dir <- paste0(\"/content/\", model_dir, \"/plot_output/\")\n",
        "\n",
        "# Create a new column that combines gage and region for the legend\n",
        "combined_metrics <- combined_metrics %>%\n",
        "  mutate(Gage_Region_Label = paste(Gage, Region, sep = \"_\"))\n",
        "\n",
        "# Get unique gage-region combinations from the dataset\n",
        "gage_regions <- unique(combined_metrics$Gage_Region_Label)\n",
        "\n",
        "# Calculate dynamic y-limits for each Gage_Region_Label\n",
        "y_limits <- combined_metrics %>%\n",
        "  group_by(Gage_Region_Label) %>%\n",
        "  summarise(Max_MAPE = max(Monthly_MAPE_pred, na.rm = TRUE),\n",
        "            Max_RMSE = max(Monthly_RMSE_pred, na.rm = TRUE)) %>%\n",
        "  mutate(Dynamic_MAPE_Limit = Max_MAPE * 1.1,  # Add 10% buffer\n",
        "         Dynamic_RMSE_Limit = Max_RMSE * 1.1)\n",
        "\n",
        "plot_list <- list()\n",
        "\n",
        "for (metric in metrics) {\n",
        "  metric_pred <- paste0(\"Monthly_\", metric, \"_pred\")\n",
        "  metric_ref <- paste0(\"Monthly_\", metric, \"_ref\")\n",
        "\n",
        "  options(repr.plot.width = 16, repr.plot.height = 10)\n",
        "\n",
        "  p <- ggplot() +\n",
        "    geom_bar(data = combined_metrics, aes(x = LeadMonth, y = .data[[metric_pred]], fill = Gage_Region_Label),\n",
        "             stat = \"identity\", position = position_dodge(width = 0.75), na.rm = TRUE) +\n",
        "    geom_hline(data = combined_metrics %>% group_by(Gage_Region_Label, Month) %>%\n",
        "                 summarise(Avg_Ref = mean(.data[[metric_ref]], na.rm = TRUE), .groups = 'drop'),\n",
        "               aes(yintercept = Avg_Ref, linetype = \"Reference\"), color = \"blue\", linewidth = 0.5, na.rm = TRUE) +\n",
        "    scale_linetype_manual(values = c(Reference = \"dashed\"), guide = guide_legend(title = \"\")) +\n",
        "    facet_grid(Gage_Region_Label ~ Month, scales = \"free_y\") +\n",
        "    labs(title = \"Month\",\n",
        "         x = \"Initialization Month\", y = metric, fill = \"Region\") +\n",
        "    theme_minimal() +\n",
        "    theme(plot.title = element_text(size = 24, hjust = 0.5),\n",
        "          axis.title.x = element_text(size = 22),\n",
        "          axis.title.y = element_text(size = 22),\n",
        "          axis.text.x = element_text(size = 22),\n",
        "          axis.text.y = element_text(size = 22),\n",
        "          legend.title = element_text(size = 22),\n",
        "          legend.text = element_text(size = 20),\n",
        "          strip.text = element_text(size = 22)) +\n",
        "    theme(axis.ticks.y.right = element_blank(),\n",
        "          axis.text.y.right = element_blank()) +\n",
        "    theme(legend.position = \"bottom\",\n",
        "          legend.box = \"horizontal\",\n",
        "          legend.box.just = \"center\",\n",
        "          strip.text.y = element_blank()) +\n",
        "    # Define colors (you can manually adjust as needed)\n",
        "    scale_fill_manual(values = c(\"red\", \"#4682B4\"))  # \"#4682B4\"  steel blue\n",
        "\n",
        "  # Dynamically adjust y-limits based on the calculated values for MAPE\n",
        "  if (metric == \"MAPE\") {\n",
        "    # Adjust the y-limits separately for each gage-region\n",
        "    p <- p + facet_grid(Gage_Region_Label ~ Month, scales = \"free_y\") +\n",
        "      geom_blank(data = combined_metrics %>%\n",
        "                   left_join(y_limits, by = \"Gage_Region_Label\") %>%\n",
        "                   filter(.data[[metric_pred]] <= Dynamic_MAPE_Limit),\n",
        "                 aes(y = Dynamic_MAPE_Limit))\n",
        "  }\n",
        "\n",
        "  # Dynamically adjust y-limits based on the calculated values for RMSE\n",
        "  if (metric == \"RMSE\") {\n",
        "    # Adjust the y-limits separately for each gage-region\n",
        "    p <- p + facet_grid(Gage_Region_Label ~ Month, scales = \"free_y\") +\n",
        "      geom_blank(data = combined_metrics %>%\n",
        "                   left_join(y_limits, by = \"Gage_Region_Label\") %>%\n",
        "                   filter(.data[[metric_pred]] <= Dynamic_RMSE_Limit),\n",
        "                 aes(y = Dynamic_RMSE_Limit))\n",
        "  }\n",
        "\n",
        "  plot_list[[metric]] <- p\n",
        "}\n",
        "\n",
        "get_legend <- function(myplot) {\n",
        "  tmp <- ggplot_gtable(ggplot_build(myplot))\n",
        "  leg <- which(sapply(tmp$grobs, function(x) x$name) == \"guide-box\")\n",
        "  legend <- tmp$grobs[[leg]]\n",
        "  return(legend)\n",
        "}\n",
        "\n",
        "combined_plots <- lapply(plot_list, function(p) p + theme(legend.position = \"none\"))\n",
        "\n",
        "legend <- get_legend(plot_list[[1]])\n",
        "\n",
        "combined_plot <- arrangeGrob(\n",
        "  grobs = c(combined_plots, list(legend)),\n",
        "  layout_matrix = rbind(c(1, 2), c(3, 3)),\n",
        "  heights = c(10, 1),\n",
        "  top = textGrob(\n",
        "    paste0(\"Monthly MAPE and RMSE Comparison for: \", year_start_metrics, \"_\", year_end_metrics, \", \", model_dir),\n",
        "    gp = gpar(fontsize = 24, fontface = \"bold\")\n",
        "  )\n",
        ")\n",
        "\n",
        "grid.newpage()\n",
        "grid.draw(combined_plot)\n",
        "\n",
        "# Save the combined plot\n",
        "file_path <- paste0(plot_dir, \"Metric_Comparison_Combined.png\")\n",
        "ggsave(file_path, plot = combined_plot, width = 32, height = 16, dpi = 300)"
      ]
    },
    {
      "cell_type": "markdown",
      "metadata": {
        "id": "jWnk7FA7G6tC"
      },
      "source": [
        "# Figure 8"
      ]
    },
    {
      "cell_type": "markdown",
      "metadata": {
        "id": "oBC3ZnY_93mE"
      },
      "source": [
        "Note that to set the configurations properly for Figure 8 (look at Step1).\n",
        "\n"
      ]
    },
    {
      "cell_type": "code",
      "execution_count": null,
      "metadata": {
        "id": "OBNrg8nW5j6E",
        "colab": {
          "base_uri": "https://localhost:8080/",
          "height": 617
        },
        "outputId": "ff5d6f74-b015-4664-ec55-5f63b5e716ce"
      },
      "outputs": [
        {
          "output_type": "display_data",
          "data": {
            "text/plain": [
              "plot without title"
            ],
            "image/png": "[encoded data removed]"
          },
          "metadata": {
            "image/png": {
              "width": 960,
              "height": 600
            }
          }
        }
      ],
      "source": [
        "# Set the metrics to be evaluated\n",
        "metrics <- c(\"MAPE\", \"RMSE\")\n",
        "plot_dir <- paste0(\"/content/\", model_dir, \"/plot_output/\")\n",
        "\n",
        "# Create a new column that combines gage and region for the legend\n",
        "combined_metrics <- combined_metrics %>%\n",
        "  mutate(Gage_Region_Label = paste(Gage, Region, sep = \"_\"))\n",
        "\n",
        "# Get unique gage-region combinations from the dataset\n",
        "gage_regions <- unique(combined_metrics$Gage_Region_Label)\n",
        "\n",
        "# Calculate dynamic y-limits for each Gage_Region_Label\n",
        "y_limits <- combined_metrics %>%\n",
        "  group_by(Gage_Region_Label) %>%\n",
        "  summarise(Max_MAPE = max(Monthly_MAPE_pred, na.rm = TRUE),\n",
        "            Max_RMSE = max(Monthly_RMSE_pred, na.rm = TRUE)) %>%\n",
        "  mutate(Dynamic_MAPE_Limit = Max_MAPE * 1.1,  # Add 10% buffer\n",
        "         Dynamic_RMSE_Limit = Max_RMSE * 1.1)\n",
        "\n",
        "plot_list <- list()\n",
        "\n",
        "for (metric in metrics) {\n",
        "  metric_pred <- paste0(\"Monthly_\", metric, \"_pred\")\n",
        "  metric_ref <- paste0(\"Monthly_\", metric, \"_ref\")\n",
        "\n",
        "  options(repr.plot.width = 16, repr.plot.height = 10)\n",
        "\n",
        "  p <- ggplot() +\n",
        "    geom_bar(data = combined_metrics, aes(x = LeadMonth, y = .data[[metric_pred]], fill = Gage_Region_Label),\n",
        "             stat = \"identity\", position = position_dodge(width = 0.75), na.rm = TRUE) +\n",
        "    geom_hline(data = combined_metrics %>% group_by(Gage_Region_Label, Month) %>%\n",
        "                 summarise(Avg_Ref = mean(.data[[metric_ref]], na.rm = TRUE), .groups = 'drop'),\n",
        "               aes(yintercept = Avg_Ref, linetype = \"Reference\"), color = \"blue\", linewidth = 0.5, na.rm = TRUE) +\n",
        "    scale_linetype_manual(values = c(Reference = \"dashed\"), guide = guide_legend(title = \"\")) +\n",
        "    facet_grid(Gage_Region_Label ~ Month, scales = \"free_y\") +\n",
        "    labs(title = \"Month\",\n",
        "         x = \"Initialization Month\", y = metric, fill = \"Region\") +\n",
        "    theme_minimal() +\n",
        "    theme(plot.title = element_text(size = 24, hjust = 0.5),\n",
        "          axis.title.x = element_text(size = 22),\n",
        "          axis.title.y = element_text(size = 22),\n",
        "          axis.text.x = element_text(size = 22),\n",
        "          axis.text.y = element_text(size = 22),\n",
        "          legend.title = element_text(size = 22),\n",
        "          legend.text = element_text(size = 20),\n",
        "          strip.text = element_text(size = 22)) +\n",
        "    theme(axis.ticks.y.right = element_blank(),\n",
        "          axis.text.y.right = element_blank()) +\n",
        "    theme(legend.position = \"bottom\",\n",
        "          legend.box = \"horizontal\",\n",
        "          legend.box.just = \"center\",\n",
        "          strip.text.y = element_blank()) +\n",
        "    # Define colors (you can manually adjust as needed)\n",
        "    scale_fill_manual(values = c(\"gray\", \"red\" ))  # \"#4682B4\"  steel blue, red\n",
        "\n",
        "  # Dynamically adjust y-limits based on the calculated values for MAPE\n",
        "  if (metric == \"MAPE\") {\n",
        "    # Adjust the y-limits separately for each gage-region\n",
        "    p <- p + facet_grid(Gage_Region_Label ~ Month, scales = \"free_y\") +\n",
        "      geom_blank(data = combined_metrics %>%\n",
        "                   left_join(y_limits, by = \"Gage_Region_Label\") %>%\n",
        "                   filter(.data[[metric_pred]] <= Dynamic_MAPE_Limit),\n",
        "                 aes(y = Dynamic_MAPE_Limit))\n",
        "  }\n",
        "\n",
        "  # Dynamically adjust y-limits based on the calculated values for RMSE\n",
        "  if (metric == \"RMSE\") {\n",
        "    # Adjust the y-limits separately for each gage-region\n",
        "    p <- p + facet_grid(Gage_Region_Label ~ Month, scales = \"free_y\") +\n",
        "      geom_blank(data = combined_metrics %>%\n",
        "                   left_join(y_limits, by = \"Gage_Region_Label\") %>%\n",
        "                   filter(.data[[metric_pred]] <= Dynamic_RMSE_Limit),\n",
        "                 aes(y = Dynamic_RMSE_Limit))\n",
        "  }\n",
        "\n",
        "  plot_list[[metric]] <- p\n",
        "}\n",
        "\n",
        "get_legend <- function(myplot) {\n",
        "  tmp <- ggplot_gtable(ggplot_build(myplot))\n",
        "  leg <- which(sapply(tmp$grobs, function(x) x$name) == \"guide-box\")\n",
        "  legend <- tmp$grobs[[leg]]\n",
        "  return(legend)\n",
        "}\n",
        "\n",
        "combined_plots <- lapply(plot_list, function(p) p + theme(legend.position = \"none\"))\n",
        "\n",
        "legend <- get_legend(plot_list[[1]])\n",
        "\n",
        "combined_plot <- arrangeGrob(\n",
        "  grobs = c(combined_plots, list(legend)),\n",
        "  layout_matrix = rbind(c(1, 2), c(3, 3)),\n",
        "  heights = c(10, 1),\n",
        "  top = textGrob(\n",
        "    paste0(\"Monthly MAPE and RMSE Comparison for: \", year_start_metrics, \"_\", year_end_metrics, \", \", model_dir),\n",
        "    gp = gpar(fontsize = 24, fontface = \"bold\")\n",
        "  )\n",
        ")\n",
        "\n",
        "grid.newpage()\n",
        "grid.draw(combined_plot)\n",
        "\n",
        "# Save the combined plot\n",
        "file_path <- paste0(plot_dir, \"Metric_Comparison_Combined.png\")\n",
        "ggsave(file_path, plot = combined_plot, width = 32, height = 16, dpi = 300)"
      ]
    },
    {
      "cell_type": "markdown",
      "metadata": {
        "id": "mfFT2XytHssy"
      },
      "source": [
        "# Figure 13"
      ]
    },
    {
      "cell_type": "markdown",
      "metadata": {
        "id": "EY1ZDv1fKcMv"
      },
      "source": [
        "# Plot of the models metrics comparison\n",
        "You should run the notebook for three time spans save the outputs in three folders for each model: \\\n",
        "SMYLE_Prein_data : Hindcast WT: 1982-2021 \\\n",
        "SMYLE_1985: Hindcast WT: 1985-2023 \\\n",
        "SMYLE_def: Hindcast WT: 1970-2023\n",
        "\n",
        "ECMWF_Prein_data : Hindcast WT: 1982-2021 \\\n",
        "ECMWF_1985: Hindcast WT: 1985-2023 \\\n",
        "ECMWF_def: Hindcast WT: 1970-2023"
      ]
    },
    {
      "cell_type": "code",
      "execution_count": null,
      "metadata": {
        "id": "N279bb9WFqXf"
      },
      "outputs": [],
      "source": [
        "if (FALSE) {\n",
        "\n",
        "# Load necessary libraries\n",
        "library(ggplot2)\n",
        "library(dplyr)\n",
        "library(reshape2)\n",
        "library(gridExtra)\n",
        "library(grid)\n",
        "\n",
        "path_prein <- '/content/SMYLE_Prein_data/12.combined_metrics.csv'\n",
        "path_1985 <- '/content/SMYLE_1985/12.combined_metrics.csv'\n",
        "path_def <- '/content/SMYLE_def/12.combined_metrics.csv'\n",
        "\n",
        "data_prein <- read.csv(path_prein)\n",
        "data_1985 <- read.csv(path_1985)\n",
        "data_def <- read.csv(path_def)\n",
        "\n",
        "data_prein$model <- 'Prein.et.al'\n",
        "data_1985$model <- '1985_2023'\n",
        "data_def$model <- '1970_2023'\n",
        "\n",
        "combined_data <- bind_rows(data_prein, data_1985, data_def)\n",
        "\n",
        "combined_data <- combined_data %>%\n",
        "  mutate(\n",
        "    RMSE = Monthly_RMSE_pred,\n",
        "    MAPE = Monthly_MAPE_pred\n",
        "  )\n",
        "\n",
        "gage_regions <- unique(combined_data$Gage_Region)\n",
        "\n",
        "plot_list <- list()\n",
        "for (gage_region in gage_regions) {\n",
        "\n",
        "  data_gage <- combined_data %>% filter(Gage_Region == gage_region)\n",
        "\n",
        "  metrics <- c(\"RMSE\", \"MAPE\")  # RMSE first, MAPE second\n",
        "\n",
        "  for (metric in metrics) {\n",
        "\n",
        "    p <- ggplot(data_gage) +\n",
        "      geom_bar(aes(x = as.factor(LeadMonth), y = .data[[metric]], fill = model),\n",
        "               stat = \"identity\", position = position_dodge(width = 0.75), na.rm = TRUE) +\n",
        "      facet_grid(Gage_Region ~ Month, scales = \"free_y\") +\n",
        "      labs(title = paste0(gage_region),\n",
        "           x = \"Lead Month\", y = paste0(\" \", metric), fill = \"Search Pool Period\") +\n",
        "      theme_minimal() +\n",
        "      theme(plot.title = element_text(size = 24, hjust = 0.5),\n",
        "            axis.title.x = element_text(size = 22),\n",
        "            axis.title.y = element_text(size = 22),\n",
        "            axis.text.x = element_text(size = 16),\n",
        "            axis.text.y = element_text(size = 16),\n",
        "            legend.title = element_text(size = 18),\n",
        "            legend.text = element_text(size = 16),\n",
        "            strip.text = element_text(size = 18),\n",
        "            axis.ticks.y.right = element_blank(),\n",
        "            axis.text.y.right = element_blank(),\n",
        "            legend.position = \"bottom\",\n",
        "            legend.box = \"horizontal\",\n",
        "            legend.box.just = \"center\",\n",
        "            strip.text.y = element_blank()) +\n",
        "      scale_fill_manual(values = c(\"Prein.et.al\" = \"black\", \"1985_2023\" = \"blue\", \"1970_2023\" = \"red\"))\n",
        "\n",
        "    plot_list[[paste0(gage_region, \"_\", metric)]] <- p\n",
        "  }\n",
        "}\n",
        "\n",
        "get_legend <- function(myplot) {\n",
        "  tmp <- ggplot_gtable(ggplot_build(myplot))\n",
        "  leg <- which(sapply(tmp$grobs, function(x) x$name) == \"guide-box\")\n",
        "  legend <- tmp$grobs[[leg]]\n",
        "  return(legend)\n",
        "}\n",
        "\n",
        "combined_plots <- lapply(plot_list, function(p) p + theme(legend.position = \"none\"))\n",
        "legend <- get_legend(plot_list[[1]])\n",
        "\n",
        "combined_plot <- arrangeGrob(\n",
        "  grobs = c(combined_plots[paste0(gage_regions[1], \"_MAPE\")], combined_plots[paste0(gage_regions[1], \"_RMSE\")],\n",
        "            combined_plots[paste0(gage_regions[2], \"_MAPE\")], combined_plots[paste0(gage_regions[2], \"_RMSE\")], list(legend)),\n",
        "  layout_matrix = rbind(c(1, 2), c(3, 4), c(5, 5)),\n",
        "  heights = c(10, 10, 1),\n",
        "  top = textGrob(\"Comparison of Prediction Errors by Search Pool Size, SMYLE\", gp = gpar(fontsize = 24, fontface = \"bold\"))\n",
        ")\n",
        "\n",
        "grid.newpage()\n",
        "grid.draw(combined_plot)\n",
        "\n",
        "file_path <- \"/content/Metric_Comparison_Combined.png\"\n",
        "ggsave(file_path, plot = combined_plot, width = 16, height = 20, dpi = 300)\n",
        "\n",
        "}\n"
      ]
    }
  ],
  "metadata": {
    "colab": {
      "provenance": [],
      "include_colab_link": true
    },
    "kernelspec": {
      "display_name": "R",
      "name": "ir"
    },
    "language_info": {
      "name": "R"
    }
  },
  "nbformat": 4,
  "nbformat_minor": 0
}