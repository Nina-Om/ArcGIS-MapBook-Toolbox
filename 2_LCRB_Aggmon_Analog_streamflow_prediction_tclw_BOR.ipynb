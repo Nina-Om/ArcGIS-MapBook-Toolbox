{
  "nbformat": 4,
  "nbformat_minor": 0,
  "metadata": {
    "colab": {
      "provenance": [],
      "authorship_tag": "ABX9TyP2RUS2a0f3fsn9BPp1LCVU",
      "include_colab_link": true
    },
    "kernelspec": {
      "name": "ir",
      "display_name": "R"
    },
    "language_info": {
      "name": "R"
    }
  },
  "cells": [
    {
      "cell_type": "markdown",
      "metadata": {
        "id": "view-in-github",
        "colab_type": "text"
      },
      "source": [
        "<a href=\"https://colab.research.google.com/github/Nina-Om/ArcGIS-MapBook-Toolbox/blob/master/2_LCRB_Aggmon_Analog_streamflow_prediction_tclw_BOR.ipynb\" target=\"_parent\"><img src=\"https://colab.research.google.com/assets/colab-badge.svg\" alt=\"Open In Colab\"/></a>"
      ]
    },
    {
      "cell_type": "markdown",
      "source": [
        "# Run predictive kNN model for analog based monsoon streamflow prediction in LCRB"
      ],
      "metadata": {
        "id": "O8G8aYHjbaea"
      }
    },
    {
      "cell_type": "markdown",
      "source": [
        "**Title**: k-Nearest Neighbors (kNN) Analysis for Identifying Analog Years and Streamflow Prediction \\\n",
        "**Author**: Nina Omani \\\n",
        "**Date created**: 2/14/2024  \\\n",
        "\\\n",
        "**Description**: \\\n",
        "This notebook uses the k-Nearest Neighbors (kNN) algorithm to identify analog years based on hydroclimate condition and streamflow data. \\\n",
        "\n",
        "It standardizes hydroclimate features, performs kNN to find the 4 closest analog years, and calculates streamflow predictions. \\\n",
        "\n",
        "The script then evaluates the predictive performance using metrics such as MAE, RMSE, and MAPE, and visualizes the results. \\\n",
        "\n",
        "**Requirements:** \\\n",
        "The script requires the following input files: \\\n",
        "*   **2.WT_combined_data.csv**: Output from the **1.WT_File_gather.R** script, containing weather type data with streamflow information.\n",
        "*   **BOR Intervening Flows Data 1971-2022_NFDextension v2.xlsx**: Streamflow observation data.\n",
        "\n",
        "**Hindcast WTs:** 1981-2023 \\\n",
        "**Available Historic WTs:** 1970-2023 \\\n",
        "**Streamflow:** 1972-2022 \\\n",
        "**Evaluation period:** 1993-2021\n",
        "\n",
        "\n",
        "Ensure these files are present and paths are correctly set. \\\n",
        "\n"
      ],
      "metadata": {
        "id": "-SIFs4BWo5KQ"
      }
    },
    {
      "cell_type": "markdown",
      "source": [
        "# Runtime setup:\n",
        "To activate the R kernel in Google Colab, follow these steps:, make sure you select \"R\" Runtime type under \"Runtime\", \"Change runtime type\", Runtime type:R."
      ],
      "metadata": {
        "id": "OBjqPvUFjah-"
      }
    },
    {
      "cell_type": "markdown",
      "source": [
        "# **Experiments**\n",
        "\n",
        "`ECMWF <- TRUE `  \n",
        " Determines whether the experiment uses ECMWF data (TRUE) or SMYLE data (FALSE). \\\n",
        "\n",
        "\n",
        "**Baseline Experiment or Default Conditions** \\\n",
        "`feature <- FALSE`      \n",
        "Indicates whether to include antecedent streamflow and WTs predictors (FALSE for no antecedent predictors).\n",
        "\n",
        "`AGGREGATE <- FALSE `  \n",
        "Does not use aggregated WTs predictors (FALSE). Aggregated WTs predictors (JJASO, JASO, ASO, etc.). It uses monthly WTs predictors. \\\n",
        "```\n",
        "combinations <- data.frame(\n",
        "  region = c(\"AZ_West\", \"AZ_West\"),\n",
        "  gage = c(\"Glen_Hoover\", \"Total_Below_Parker\")\n",
        ")\n",
        "```\n",
        "\n",
        "**Experiment 1:** Aggregated WTs as Predictors. \\\n",
        "Similar to the baseline but with aggregated WTs predictors (AGGREGATE <- TRUE). \\\n",
        "`feature <- FALSE`      \n",
        "`AGGREGATE <- TRUE `  \n",
        "```\n",
        "combinations <- data.frame(\n",
        "  region = c(\"AZ_West\", \"AZ_West\"),\n",
        "  gage = c(\"Glen_Hoover\", \"Total_Below_Parker\")\n",
        ")\n",
        "```\n",
        "**Experiment 2.** Influence of initial conditions \\\n",
        "`feature <- streamflow`      Includes antecedent streamflow as a predictor \\\n",
        "`AGGREGATE <- FALSE `  Does not use aggregated WTs predictors\n",
        "```\n",
        "combinations <- data.frame(\n",
        "  region = c(\"AZ_West\", \"AZ_West\"),\n",
        "  gage = c(\"Glen_Hoover\", \"Total_Below_Parker\")\n",
        ")\n",
        "```\n",
        "**Experiment 4:** Regional weather impact assessment. \\\n",
        "`feature <- FALSE`  Does not include antecedent predictors \\\n",
        "`AGGREGATE <- FALSE `  Does not use aggregated WTs predictors\n",
        "\n",
        "First run:\n",
        "```\n",
        "combinations <- data.frame(\n",
        "  region = c(\"AZ_East\", \"AZ_West\"),\n",
        "  gage = c(\"Glen_Hoover\", \"Glen_Hoover\")\n",
        ")\n",
        "```\n",
        "Second run:\n",
        "```\n",
        "combinations <- data.frame(\n",
        "  region = c(\"AZ_East\", \"AZ_West\"),\n",
        "  gage = c(\"Total_Below_Parker\", \"Total_Below_Parker\")\n",
        ")\n",
        "```\n",
        "\n"
      ],
      "metadata": {
        "id": "F9mbRnAT5GnJ"
      }
    },
    {
      "cell_type": "markdown",
      "source": [
        "#FNN package\n",
        "**get.knnx function:**\n",
        "  \n",
        "It is designed to find the k-nearest neighbors of a set of query points in a given dataset. \\\n",
        "\n",
        "It takes two main input matrices: data (the dataset in which to search for neighbors) and query (the points for which neighbors are found). \\\n",
        "\n",
        "This function is useful when you have a specific set of points outside your dataset for which you want to find neighbors within your dataset. \\\n"
      ],
      "metadata": {
        "id": "sdYWUdiSpzBo"
      }
    },
    {
      "cell_type": "code",
      "source": [
        "#Install the packages if required\n",
        "if (!requireNamespace(\"readr\", quietly = TRUE)) install.packages(\"readr\")\n",
        "if (!requireNamespace(\"FNN\", quietly = TRUE)) install.packages(\"FNN\")\n",
        "if (!requireNamespace(\"zoo\", quietly = TRUE)) install.packages(\"zoo\")\n",
        "if (!requireNamespace(\"reshape2\", quietly = TRUE)) install.packages(\"reshape2\")\n",
        "if (!requireNamespace(\"Metrics\", quietly = TRUE)) install.packages(\"Metrics\")\n",
        "if (!requireNamespace(\"readxl\", quietly = TRUE)) install.packages(\"readxl\")\n",
        "if (!requireNamespace(\"tidyr\", quietly = TRUE)) install.packages(\"tidyr\")\n",
        "if (!requireNamespace(\"tibble\", quietly = TRUE)) install.packages(\"tibble\")\n",
        "if (!requireNamespace(\"dplyr\", quietly = TRUE)) install.packages(\"dplyr\")\n",
        "if (!requireNamespace(\"ggplot2\", quietly = TRUE)) install.packages(\"ggplot2\")\n",
        "if (!requireNamespace(\"grid\", quietly = TRUE)) install.packages(\"grid\")\n",
        "if (!requireNamespace(\"gridExtra\", quietly = TRUE)) install.packages(\"gridExtra\")\n",
        "if (!requireNamespace(\"reticulate\", quietly = TRUE)) install.packages(\"reticulate\")\n",
        "if (!requireNamespace(\"googledrive\", quietly = TRUE)) install.packages(\"googledrive\")"
      ],
      "metadata": {
        "id": "lrhXgo9finYo"
      },
      "execution_count": 89,
      "outputs": []
    },
    {
      "cell_type": "code",
      "source": [
        "library(FNN)\n",
        "library(readr)\n",
        "library(dplyr)\n",
        "library(tibble)\n",
        "library(ggplot2)\n",
        "library(readxl)\n",
        "library(zoo)\n",
        "library(reshape2)\n",
        "library(tidyr)\n",
        "library(Metrics)\n",
        "library(grid)\n",
        "library(gridExtra)\n",
        "library(googledrive)\n",
        "library(reticulate)"
      ],
      "metadata": {
        "id": "hzrTsSpwh9v8"
      },
      "execution_count": 90,
      "outputs": []
    },
    {
      "cell_type": "code",
      "source": [
        "# Execute Python code to mount Google Drive using system\n",
        "system(\"python3 -c 'from google.colab import drive; drive.mount(\\\"/content/drive\\\")'\")"
      ],
      "metadata": {
        "id": "jgR3cYjzN1GY"
      },
      "execution_count": 91,
      "outputs": []
    },
    {
      "cell_type": "markdown",
      "source": [
        "# Functions (0.Functions.R)"
      ],
      "metadata": {
        "id": "TFIWp-c73KxH"
      }
    },
    {
      "cell_type": "code",
      "source": [
        "# Function definitions\n",
        "\n",
        "standardize <- function(x) {\n",
        "  (x - mean(x, na.rm = TRUE)) / sd(x, na.rm = TRUE)}\n",
        "\n",
        "# Filter and prepare historic and forecast data for the kNN analysis.\n",
        "prepare_data <- function(data, years, months, obs = TRUE) {\n",
        "  # Select columns based on whether preparing observed (obs) or forecasted (for) data\n",
        "  select_cols <- if (obs) c(\"Year\", \"Month\", grep(\"_obs$|.obs$\", names(data), value = TRUE)) else c(\"lead_date\", \"lead_month\", \"Year\", \"Month\", grep(\"_for$|.for$\", names(data), value = TRUE))\n",
        "\n",
        "  prepared_data <- data %>%\n",
        "    filter(Year %in% years, Month %in% months) %>%\n",
        "    select(all_of(select_cols)) %>%\n",
        "    na.omit() %>%\n",
        "    distinct()\n",
        "\n",
        "  prepared_data <- prepared_data %>%\n",
        "    mutate(across(everything(), as.numeric))\n",
        "\n",
        "  return(prepared_data)\n",
        "}\n",
        "# Conduct initial data exploration, including correlation analysis and plotting of monthly means.\n",
        "perform_data_exploration <- function(data) {\n",
        "  # Correlation analysis\n",
        "  cor_matrix_for <- cor(data %>% select(dry.for, normal.for, monsoon.for), use = \"complete.obs\")\n",
        "  #print(cor_matrix_for)\n",
        "\n",
        "  cor_matrix_obs <- cor(data %>% select(dry.obs, normal.obs, monsoon.obs), use = \"complete.obs\")\n",
        "  #print(cor_matrix_obs)\n",
        "\n",
        "  # Plotting mean monthly values\n",
        "  monthly_means <- data %>%\n",
        "    group_by(Month) %>%\n",
        "    summarise(\n",
        "      mean_dry_obs = mean(dry.obs, na.rm = TRUE),\n",
        "      mean_normal_obs = mean(normal.obs, na.rm = TRUE),\n",
        "      mean_monsoon_obs = mean(monsoon.obs, na.rm = TRUE)\n",
        "    ) %>%\n",
        "    ungroup()\n",
        "\n",
        "  ggplot(monthly_means, aes(x = Month)) +\n",
        "    geom_line(aes(y = mean_dry_obs, color = \"Dry\"), size = 1) +\n",
        "    geom_line(aes(y = mean_normal_obs, color = \"Normal\"), size = 1) +\n",
        "    geom_line(aes(y = mean_monsoon_obs, color = \"Monsoon\"), size = 1) +\n",
        "    scale_color_manual(values = c(\"Dry\" = \"red\", \"Normal\" = \"green\", \"Monsoon\" = \"blue\")) +\n",
        "    labs(title = \"Mean Monthly Observations\", x = \"Month\", y = \"Mean Observation Value\", color = \"Observation Type\") +\n",
        "    theme_minimal() +\n",
        "    theme(axis.text.x = element_text(angle = 45, hjust = 1))\n",
        "}\n",
        "\n",
        "AntecedentMeans <- function(data, n) {\n",
        "  if(n == 1) {\n",
        "    return(c(NA, head(data, -1)))\n",
        "  } else {\n",
        "    antecedent_means <- rep(NA, length(data))\n",
        "    for(i in (n+1):length(data)) {\n",
        "      antecedent_means[i] <- mean(data[(i-n):(i-1)], na.rm = TRUE)\n",
        "    }\n",
        "    return(antecedent_means)\n",
        "  }\n",
        "}\n",
        "\n",
        "#antecedent_monthly <- AntecedentMeans(monthly_data, 1)\n",
        "#antecedent_mean_two_months <- AntecedentMeans(monthly_data, 2)\n",
        "#antecedent_mean_three_months <- AntecedentMeans(monthly_data, 3)\n",
        "\n",
        "# Function to perform kNN and find analogs, appending results to a dataframe (more features)\n",
        "find_analogs_for_month_and_lead <- function(historic_data, forecast_data, month, lead_month, k) {\n",
        "\n",
        "  results_df <- data.frame()\n",
        "\n",
        "  historic_filtered <- na.omit(historic_data[historic_data$Month == month, ])\n",
        "\n",
        "  forecast_filtered <- na.omit(\n",
        "    forecast_data[forecast_data$Month == month & forecast_data$lead_month == lead_month,])\n",
        "  forecast_filtered <- dplyr::select(forecast_filtered, -c(lead_date, lead_month))\n",
        "\n",
        "  obs_cols_historic <- grep(\"_obs$\", names(historic_filtered), value = TRUE)\n",
        "  if(!all(sapply(historic_filtered[, obs_cols_historic], is.numeric))) {\n",
        "    stop(\"Non-numeric data found in historic_filtered.\")\n",
        "  }\n",
        "\n",
        "  for_cols_forecast <- grep(\"_for$\", names(forecast_filtered), value = TRUE)\n",
        "  if(!all(sapply(forecast_filtered[, for_cols_forecast], is.numeric))) {\n",
        "    stop(\"Non-numeric data found in forecast_filtered.\")\n",
        "  }\n",
        "\n",
        "  historic_matrix <- historic_filtered %>%\n",
        "    select(contains(\"_obs\")) %>%\n",
        "    data.matrix()\n",
        "\n",
        "  forecast_matrix <- forecast_filtered %>%\n",
        "    select(contains(\"_for\")) %>%\n",
        "    data.matrix()\n",
        "\n",
        "  if (ncol(historic_matrix) != ncol(forecast_matrix)) {\n",
        "    stop(\"Number of features in historic and forecast data does not match.\")}\n",
        "\n",
        "  # Perform kNN\n",
        "  knn_result <- get.knnx(historic_matrix, forecast_matrix, k = k)\n",
        "\n",
        "  for (i in seq_len(nrow(forecast_matrix))) {\n",
        "    # Calculate distances and weights for the current forecast's analogs\n",
        "    analog_distances <- knn_result$nn.dist[i, ]\n",
        "    analog_weights <- 1 / (analog_distances + 1e-5)\n",
        "    weights_normalized <- analog_weights / sum(analog_weights) # Normalize the weights\n",
        "\n",
        "    for (j in 1:k) {\n",
        "      analog_year <- historic_filtered$Year[knn_result$nn.index[i, j]]\n",
        "      results_df <- rbind(results_df, data.frame(\n",
        "        ForecastYear = forecast_filtered$Year[i],\n",
        "        Month = month,\n",
        "        LeadMonth = lead_month,\n",
        "        AnalogYear = analog_year,\n",
        "        Distance = analog_distances[j],\n",
        "        Weight = weights_normalized[j],\n",
        "        Rank = j))\n",
        "    }\n",
        "  }\n",
        "  return(results_df)\n",
        "}\n",
        "\n",
        "\n",
        "# Function to perform kNN and find analogs, appending results to a dataframe (more features) for each month in stream flow data\n",
        "find_analogs_for_season_and_lead <- function(historic_data, forecast_data, month, season,lead_month, k) {\n",
        "  # historic_data$Month   season=\"JJASO\";   lead_month = 4;   k=4; month=6\n",
        "  results_df <- data.frame()\n",
        "\n",
        "  historic_filtered <- na.omit(historic_data[historic_data$Month == month, ])\n",
        "\n",
        "  forecast_filtered <- na.omit(\n",
        "    forecast_data[forecast_data$Month %in% month & forecast_data$lead_month == lead_month,])\n",
        "\n",
        "  forecast_filtered <- dplyr::select(forecast_filtered, -c(lead_date, lead_month))\n",
        "\n",
        "  obs_cols_historic <- grep(\"_obs$\", names(historic_filtered), value = TRUE)\n",
        "  if(!all(sapply(historic_filtered[, obs_cols_historic], is.numeric))) {\n",
        "    stop(\"Non-numeric data found in historic_filtered.\")\n",
        "  }\n",
        "\n",
        "  for_cols_forecast <- grep(\"_for$\", names(forecast_filtered), value = TRUE)\n",
        "  if(!all(sapply(forecast_filtered[, for_cols_forecast], is.numeric))) {\n",
        "    stop(\"Non-numeric data found in forecast_filtered.\")\n",
        "  }\n",
        "\n",
        "  historic_matrix <- historic_filtered %>%\n",
        "    select(contains(\"sd\")) %>%\n",
        "    select(-c(\"sd_dry_obs\",\"sd_normal_obs\",\"sd_monsoon_obs\")) %>% # keep only aggregated data\n",
        "    data.matrix()\n",
        "\n",
        "  forecast_matrix <- forecast_filtered %>%\n",
        "    select(contains(\"sd\")) %>%\n",
        "    select(-c(\"sd_dry_for\",\"sd_normal_for\",\"sd_monsoon_for\")) %>%  # keep only aggregated data\n",
        "    data.matrix()\n",
        "\n",
        "  if (ncol(historic_matrix) != ncol(forecast_matrix)) {\n",
        "    stop(\"Number of features in historic and forecast data does not match.\")}\n",
        "\n",
        "  # Perform kNN\n",
        "  knn_result <- get.knnx(historic_matrix, forecast_matrix, k = k)\n",
        "\n",
        "  # Loop through each forecast to extract and store results\n",
        "  for (i in seq_len(nrow(forecast_matrix))) {\n",
        "    # Calculate distances and weights for the current forecast's analogs\n",
        "    analog_distances <- knn_result$nn.dist[i, ]\n",
        "    analog_weights <- 1 / (analog_distances + 1e-5)\n",
        "    weights_normalized <- analog_weights / sum(analog_weights) # Normalize the weights\n",
        "\n",
        "    for (j in 1:k) {\n",
        "      analog_year <- historic_filtered$Year[knn_result$nn.index[i, j]]\n",
        "      results_df <- rbind(results_df, data.frame(\n",
        "        ForecastYear = forecast_filtered$Year[i],\n",
        "        Month = month,\n",
        "        Season=season,\n",
        "        LeadMonth = lead_month,\n",
        "        AnalogYear = analog_year,\n",
        "        Distance = analog_distances[j],\n",
        "        Weight = weights_normalized[j],\n",
        "        Rank = j))\n",
        "    }\n",
        "  }\n",
        "  return(results_df)\n",
        "}\n",
        "\n",
        "#The function mape calculates the Mean Absolute Percentage Error (MAPE)\n",
        "mape <- function(actual, predicted) {\n",
        "  mean(abs((actual - predicted) / actual), na.rm = TRUE) * 100\n",
        "}"
      ],
      "metadata": {
        "id": "8HME5AmRyqpe"
      },
      "execution_count": 92,
      "outputs": []
    },
    {
      "cell_type": "markdown",
      "source": [
        "# Step 0: Define WT Data Period"
      ],
      "metadata": {
        "id": "5frgjLv01Fpm"
      }
    },
    {
      "cell_type": "code",
      "source": [
        "  forecast_years <- 1981:2023  #1981:2023 #1993:2021\n",
        "  historic_years <-  1985:2023   #1970:2023 increases forecast skill #1982:2018 decreases forecast skill"
      ],
      "metadata": {
        "id": "-U5v3ZHZ01dw"
      },
      "execution_count": 93,
      "outputs": []
    },
    {
      "cell_type": "markdown",
      "source": [
        "# Step 1: Select the model SMYLE or ECMWF and upload reanalysis/hindcast WTs and streamflow data"
      ],
      "metadata": {
        "id": "xqEHnF3IjmXp"
      }
    },
    {
      "cell_type": "markdown",
      "source": [
        "**Select a model and create output folders: ECMWF or SMYLE**"
      ],
      "metadata": {
        "id": "TYiuaX37pojO"
      }
    },
    {
      "cell_type": "code",
      "source": [
        "ECMWF <- T    #If FALSE, it uploades SMYLE data\n",
        "\n",
        "if (ECMWF) {\n",
        "  model_dir <- \"ECMWF\"\n",
        "  if (!dir.exists(model_dir)) {\n",
        "    dir.create(model_dir)\n",
        "  }\n",
        "  system(\"gdown '1GMrN8ynFg0hDkf8MYmmrHauehzQkCmRa' -O /content/ECMWF/2.WT_combined_data.csv\")\n",
        " } else {\n",
        "  model_dir <- \"SMYLE\"\n",
        "\n",
        "  if (!dir.exists(model_dir)) {\n",
        "    dir.create(model_dir)\n",
        "  }\n",
        "  system(\"gdown '1mcSZZ2UCyRYjrse-P_cOGX920aj6nXDY' -O /content/SMYLE/2.WT_combined_data.csv\")\n",
        "}"
      ],
      "metadata": {
        "id": "TjBMv2vvpjK8"
      },
      "execution_count": 94,
      "outputs": []
    },
    {
      "cell_type": "markdown",
      "source": [
        "**Download input data for the selected model**"
      ],
      "metadata": {
        "id": "3myj26a5sJD1"
      }
    },
    {
      "cell_type": "markdown",
      "source": [
        "### Weather Type data"
      ],
      "metadata": {
        "id": "irXLPRjbhkSg"
      }
    },
    {
      "cell_type": "code",
      "source": [
        "# List files in your Google Drive\n",
        "list.files('/content/')"
      ],
      "metadata": {
        "colab": {
          "base_uri": "https://localhost:8080/",
          "height": 52
        },
        "id": "lHsLGQYWS-iZ",
        "outputId": "119afc59-642b-4163-ec11-af25a9710140"
      },
      "execution_count": 95,
      "outputs": [
        {
          "output_type": "display_data",
          "data": {
            "text/html": [
              "<style>\n",
              ".list-inline {list-style: none; margin:0; padding: 0}\n",
              ".list-inline>li {display: inline-block}\n",
              ".list-inline>li:not(:last-child)::after {content: \"\\00b7\"; padding: 0 .5ex}\n",
              "</style>\n",
              "<ol class=list-inline><li>'5_combined_forecast_variables.csv'</li><li>'BORInterveningFlowsData1971-2022_NFDextensionv2.xlsx'</li><li>'ECMWF'</li><li>'ECMWF_tclw_only123'</li><li>'ECMWF_tclw_wt123'</li><li>'ERA_q_regional.csv'</li><li>'ERA_tclw_regional.csv'</li><li>'ERA_tcwv_regional.csv'</li><li>'merged_q_tclw_tcwv.csv'</li><li>'merged_q.csv'</li><li>'merged_tclw.csv'</li><li>'sample_data'</li><li>'SMYLE'</li></ol>\n"
            ],
            "text/markdown": "1. '5_combined_forecast_variables.csv'\n2. 'BORInterveningFlowsData1971-2022_NFDextensionv2.xlsx'\n3. 'ECMWF'\n4. 'ECMWF_tclw_only123'\n5. 'ECMWF_tclw_wt123'\n6. 'ERA_q_regional.csv'\n7. 'ERA_tclw_regional.csv'\n8. 'ERA_tcwv_regional.csv'\n9. 'merged_q_tclw_tcwv.csv'\n10. 'merged_q.csv'\n11. 'merged_tclw.csv'\n12. 'sample_data'\n13. 'SMYLE'\n\n\n",
            "text/latex": "\\begin{enumerate*}\n\\item '5\\_combined\\_forecast\\_variables.csv'\n\\item 'BORInterveningFlowsData1971-2022\\_NFDextensionv2.xlsx'\n\\item 'ECMWF'\n\\item 'ECMWF\\_tclw\\_only123'\n\\item 'ECMWF\\_tclw\\_wt123'\n\\item 'ERA\\_q\\_regional.csv'\n\\item 'ERA\\_tclw\\_regional.csv'\n\\item 'ERA\\_tcwv\\_regional.csv'\n\\item 'merged\\_q\\_tclw\\_tcwv.csv'\n\\item 'merged\\_q.csv'\n\\item 'merged\\_tclw.csv'\n\\item 'sample\\_data'\n\\item 'SMYLE'\n\\end{enumerate*}\n",
            "text/plain": [
              " [1] \"5_combined_forecast_variables.csv\"                   \n",
              " [2] \"BORInterveningFlowsData1971-2022_NFDextensionv2.xlsx\"\n",
              " [3] \"ECMWF\"                                               \n",
              " [4] \"ECMWF_tclw_only123\"                                  \n",
              " [5] \"ECMWF_tclw_wt123\"                                    \n",
              " [6] \"ERA_q_regional.csv\"                                  \n",
              " [7] \"ERA_tclw_regional.csv\"                               \n",
              " [8] \"ERA_tcwv_regional.csv\"                               \n",
              " [9] \"merged_q_tclw_tcwv.csv\"                              \n",
              "[10] \"merged_q.csv\"                                        \n",
              "[11] \"merged_tclw.csv\"                                     \n",
              "[12] \"sample_data\"                                         \n",
              "[13] \"SMYLE\"                                               "
            ]
          },
          "metadata": {}
        }
      ]
    },
    {
      "cell_type": "code",
      "source": [
        "weather_data <- read.csv(paste0(\"/content/\", model_dir,'/', '2.WT_combined_data.csv'))\n",
        "print(head(weather_data))"
      ],
      "metadata": {
        "colab": {
          "base_uri": "https://localhost:8080/"
        },
        "id": "fFx-egRii4Cz",
        "outputId": "3a12298f-8e09-4438-9713-e8ffe47bf1a5"
      },
      "execution_count": 96,
      "outputs": [
        {
          "output_type": "stream",
          "name": "stdout",
          "text": [
            "  YYYYMM dry.obs normal.obs monsoon.obs Year Month  region lead_date dry.for\n",
            "1 197006      26          4           0 1970     6 AZ_East        NA      NA\n",
            "2 197007       1         19          11 1970     7 AZ_East        NA      NA\n",
            "3 197008       0         13          18 1970     8 AZ_East        NA      NA\n",
            "4 197009      17         12           1 1970     9 AZ_East        NA      NA\n",
            "5 197010      28          3           0 1970    10 AZ_East        NA      NA\n",
            "6 197106      30          0           0 1971     6 AZ_East        NA      NA\n",
            "  normal.for monsoon.for lead_month\n",
            "1         NA          NA         NA\n",
            "2         NA          NA         NA\n",
            "3         NA          NA         NA\n",
            "4         NA          NA         NA\n",
            "5         NA          NA         NA\n",
            "6         NA          NA         NA\n"
          ]
        }
      ]
    },
    {
      "cell_type": "markdown",
      "source": [
        "**Download streamflow data from GitHub**"
      ],
      "metadata": {
        "id": "dr9s6O4Cw9m2"
      }
    },
    {
      "cell_type": "code",
      "source": [
        "system(\"gdown 'https://drive.google.com/uc?id=1jvLtMe7mWoG6KO9fm5tmeDeH3wJxTvY_' -O /content/BORInterveningFlowsData1971-2022_NFDextensionv2.xlsx\")"
      ],
      "metadata": {
        "id": "QOIN4113w6iF"
      },
      "execution_count": 97,
      "outputs": []
    },
    {
      "cell_type": "code",
      "source": [
        "streamflow_data_obs <- read_excel(\"/content/BORInterveningFlowsData1971-2022_NFDextensionv2.xlsx\", sheet = \"Summary Data\")\n",
        "print(head(streamflow_data_obs))"
      ],
      "metadata": {
        "colab": {
          "base_uri": "https://localhost:8080/"
        },
        "id": "KaP2c0PXMN1C",
        "outputId": "617c206f-2e7d-4d5f-c536-501a8918ed1e"
      },
      "execution_count": 98,
      "outputs": [
        {
          "output_type": "stream",
          "name": "stdout",
          "text": [
            "\u001b[90m# A tibble: 6 × 7\u001b[39m\n",
            "  Date                Month  Year Glen_Hoover Parker_Imperial Imperial_Mex\n",
            "  \u001b[3m\u001b[90m<dttm>\u001b[39m\u001b[23m              \u001b[3m\u001b[90m<dbl>\u001b[39m\u001b[23m \u001b[3m\u001b[90m<dbl>\u001b[39m\u001b[23m       \u001b[3m\u001b[90m<dbl>\u001b[39m\u001b[23m           \u001b[3m\u001b[90m<dbl>\u001b[39m\u001b[23m        \u001b[3m\u001b[90m<dbl>\u001b[39m\u001b[23m\n",
            "\u001b[90m1\u001b[39m 1971-01-31 \u001b[90m00:00:00\u001b[39m     1  \u001b[4m1\u001b[24m971       \u001b[4m9\u001b[24m\u001b[4m6\u001b[24m442          -\u001b[31m\u001b[4m1\u001b[24m\u001b[4m3\u001b[24m0\u001b[39m\u001b[31m20\u001b[39m           \u001b[31mNA\u001b[39m\n",
            "\u001b[90m2\u001b[39m 1971-02-28 \u001b[90m00:00:00\u001b[39m     2  \u001b[4m1\u001b[24m971      -\u001b[31m\u001b[4m1\u001b[24m\u001b[4m6\u001b[24m2\u001b[39m\u001b[31m41\u001b[39m          -\u001b[31m\u001b[4m4\u001b[24m\u001b[4m8\u001b[24m4\u001b[39m\u001b[31m73\u001b[39m           \u001b[31mNA\u001b[39m\n",
            "\u001b[90m3\u001b[39m 1971-03-31 \u001b[90m00:00:00\u001b[39m     3  \u001b[4m1\u001b[24m971        \u001b[4m5\u001b[24m506          -\u001b[31m\u001b[4m6\u001b[24m\u001b[4m0\u001b[24m3\u001b[39m\u001b[31m75\u001b[39m           \u001b[31mNA\u001b[39m\n",
            "\u001b[90m4\u001b[39m 1971-04-30 \u001b[90m00:00:00\u001b[39m     4  \u001b[4m1\u001b[24m971      -\u001b[31m\u001b[4m2\u001b[24m\u001b[4m5\u001b[24m6\u001b[39m\u001b[31m91\u001b[39m           -\u001b[31m\u001b[4m7\u001b[24m70\u001b[39m\u001b[31m2\u001b[39m           \u001b[31mNA\u001b[39m\n",
            "\u001b[90m5\u001b[39m 1971-05-31 \u001b[90m00:00:00\u001b[39m     5  \u001b[4m1\u001b[24m971       \u001b[4m4\u001b[24m\u001b[4m9\u001b[24m182          -\u001b[31m\u001b[4m2\u001b[24m\u001b[4m7\u001b[24m3\u001b[39m\u001b[31m42\u001b[39m           \u001b[31mNA\u001b[39m\n",
            "\u001b[90m6\u001b[39m 1971-06-30 \u001b[90m00:00:00\u001b[39m     6  \u001b[4m1\u001b[24m971       \u001b[4m2\u001b[24m\u001b[4m1\u001b[24m035          -\u001b[31m\u001b[4m4\u001b[24m\u001b[4m6\u001b[24m6\u001b[39m\u001b[31m18\u001b[39m           \u001b[31mNA\u001b[39m\n",
            "\u001b[90m# ℹ 1 more variable: Total_Below_Parker <dbl>\u001b[39m\n"
          ]
        }
      ]
    },
    {
      "cell_type": "markdown",
      "source": [
        "# Upload ECMWF forecasted and ERA5.1 reanalysis monthly tclw data"
      ],
      "metadata": {
        "id": "mnD8kyYurWA9"
      }
    },
    {
      "cell_type": "code",
      "source": [
        "system(\"gdown 'https://drive.google.com/uc?id=10g9FyL6ongiESzuADnRrVi4WwFea-GZi' -O /content/5_combined_forecast_variables.csv\") #output of PRISM_ECMWF_Regression_analysis_BOR.ipynb"
      ],
      "metadata": {
        "id": "6ZkJq5Shq6j-"
      },
      "execution_count": 99,
      "outputs": []
    },
    {
      "cell_type": "code",
      "source": [
        "forecast_data <- read_csv(\"/content/5_combined_forecast_variables.csv\", show_col_types = FALSE)\n",
        "forecast_data <- rename(forecast_data, lead_month = init_Month)\n",
        "forecast_data$lead_month <- as.numeric(forecast_data$lead_month)\n",
        "forecast_data <- rename(forecast_data, region = Region)"
      ],
      "metadata": {
        "id": "diBXX7i12UIE"
      },
      "execution_count": 100,
      "outputs": []
    },
    {
      "cell_type": "code",
      "source": [
        "# Download the datasets\n",
        "system(\"gdown 'https://drive.google.com/uc?id=1keSg1hFPEVQxWyqS4ONEDNs-aaIlGFte' -O /content/ERA_tclw_regional.csv\")  # tclw\n",
        "system(\"gdown 'https://drive.google.com/uc?id=1-DqN4uIILKEmZ0jk7jSIg4LLeZ-vhO5o' -O /content/ERA_q_regional.csv\")    # q\n",
        "system(\"gdown 'https://drive.google.com/uc?id=1opBJp6hieUF9vvxfpSnSFZqMp1LXjUM0' -O /content/ERA_tcwv_regional.csv\")  # tcwv\n"
      ],
      "metadata": {
        "id": "_Uk5y-uq7flL"
      },
      "execution_count": 101,
      "outputs": []
    },
    {
      "cell_type": "code",
      "source": [
        "\n",
        "era_data <- read_csv(\"/content/ERA_tclw_regional.csv\", show_col_types = FALSE)\n",
        "era_data <- rename(era_data, region = Region)   # Merge the datasets\n",
        "var = \"tclw\"  # tcwv, tclw\n",
        "merged_obs <- merge(weather_data, era_data[, c(\"Year\", \"Month\", \"region\", \"tclw\")],\n",
        "                     by = c(\"Year\", \"Month\", \"region\"),\n",
        "                     all.x = TRUE)\n",
        "\n",
        "# Convert necessary columns to numeric\n",
        "merged_obs$Month <- as.numeric(merged_obs$Month)\n",
        "merged_obs$lead_month <- as.numeric(merged_obs$lead_month)\n",
        "merged_obs$Year <- as.numeric(merged_obs$Year)\n",
        "merged_obs <- rename(merged_obs, tclw_obs = tclw)\n",
        "\n",
        "merged_for <- merge(merged_obs, forecast_data[, c(\"Year\", \"Month\", \"region\", \"lead_month\", \"tclw\")],\n",
        "                              by = c(\"Year\", \"Month\", \"region\", \"lead_month\"),\n",
        "                              all.x = TRUE)\n",
        "merged_for <- rename(merged_for, tclw_for = tclw)\n",
        "\n",
        "print(head(merged_for))\n",
        "write.csv(as.data.frame(merged_for), file=paste0(\"/content/\",\"merged_tclw.csv\"))\n"
      ],
      "metadata": {
        "colab": {
          "base_uri": "https://localhost:8080/"
        },
        "id": "kmT6sB9G4CY7",
        "outputId": "6869b702-e34c-413f-b76a-91ec04d200d4"
      },
      "execution_count": 102,
      "outputs": [
        {
          "output_type": "stream",
          "name": "stdout",
          "text": [
            "  Year Month  region lead_month YYYYMM dry.obs normal.obs monsoon.obs lead_date\n",
            "1 1970     6 AZ_East         NA 197006      26          4           0        NA\n",
            "2 1970     6 AZ_West         NA 197006      20         10           0        NA\n",
            "3 1970     7 AZ_East         NA 197007       1         19          11        NA\n",
            "4 1970     7 AZ_West         NA 197007       2         19          10        NA\n",
            "5 1970     8 AZ_East         NA 197008       0         13          18        NA\n",
            "6 1970     8 AZ_West         NA 197008       0         13          18        NA\n",
            "  dry.for normal.for monsoon.for    tclw_obs tclw_for\n",
            "1      NA         NA          NA 0.003445794       NA\n",
            "2      NA         NA          NA 0.002162012       NA\n",
            "3      NA         NA          NA 0.019265396       NA\n",
            "4      NA         NA          NA 0.009515254       NA\n",
            "5      NA         NA          NA 0.023223509       NA\n",
            "6      NA         NA          NA 0.019226136       NA\n"
          ]
        }
      ]
    },
    {
      "cell_type": "markdown",
      "source": [
        "**Select the anecedent variables as a predictors** \\\n",
        "Currently, the best scenario is antecedent streamflow as predictor"
      ],
      "metadata": {
        "id": "OGIARN_hpOsn"
      }
    },
    {
      "cell_type": "code",
      "source": [
        "# Select the feature to be considered as antecedents predictor\n",
        "\n",
        "#Features list:\n",
        "#\"climate_features\"       adding antecedent WTs and tclw (default condition to use monthly WTs),\n",
        "#\"streamflow_features\"    adding antecedent streamflow and tclw (default condition to use monthly WTs),\n",
        "#\"all_features\"           adding both antecedent WTs and streamflow and tclw (default condition to use monthly WTs),\n",
        "#FALSE                    No antecedent feature, default condition to use monthly WTs\n",
        "\n",
        "feature <- \"streamflow_features\"\n"
      ],
      "metadata": {
        "id": "qoOK7x4foRVM"
      },
      "execution_count": 103,
      "outputs": []
    },
    {
      "cell_type": "markdown",
      "source": [
        "**Select region of interest to pull atmospheric variables** \\\n",
        "Currenly, the best scenario is AZ_West"
      ],
      "metadata": {
        "id": "5Jlid9J6qEl9"
      }
    },
    {
      "cell_type": "code",
      "source": [
        "\n",
        "combinations <- data.frame(\n",
        "  region = c(\"AZ_West\", \"AZ_West\"),  #region : \"AZ_East\", \"AZ_West\"\n",
        "  gage = c(\"Glen_Hoover\", \"Total_Below_Parker\") #gages: Total_Below_Parker, Glen_Hoover\n",
        ")\n"
      ],
      "metadata": {
        "id": "Z3_Tf8EppN6t"
      },
      "execution_count": 104,
      "outputs": []
    },
    {
      "cell_type": "markdown",
      "source": [
        "# Step 2: Data preparation for kNN analysis\n",
        "\n",
        "Target year period and search pool length should be defined in Step1, below function. Currently, they are: \\\n",
        "  forecast_years : 1981:2023  \\\n",
        "  historic_years :  1970:2023  \\"
      ],
      "metadata": {
        "id": "ZRdMETjU3aBL"
      }
    },
    {
      "cell_type": "markdown",
      "source": [
        "**2.LCRB_singlemonth_Analog_streamflow_prediction.R**"
      ],
      "metadata": {
        "id": "nDfJw1bdPBfE"
      }
    },
    {
      "cell_type": "markdown",
      "source": [
        "To exclude WT predictore, comment out:\n",
        "\n",
        "sd_dry_for = ifelse(is.na(dry.for), NA, standardize(dry.for)), \\\n",
        "sd_normal_for = ifelse(is.na(normal.for), NA, standardize(normal.for)), \\\n",
        "sd_monsoon_for = ifelse(is.na(monsoon.for), NA, standardize(monsoon.for)), \\\n",
        "sd_dry_obs = ifelse(is.na(dry.obs), NA, standardize(dry.obs)), \\\n",
        "sd_normal_obs = ifelse(is.na(normal.obs), NA, standardize(normal.obs)), \\\n",
        "sd_monsoon_obs = ifelse(is.na(monsoon.obs), NA, standardize(monsoon.obs)), \\\n",
        "Standardize new tclw columns, assuming they might also have NA values"
      ],
      "metadata": {
        "id": "v7By2j25Cmgx"
      }
    },
    {
      "cell_type": "code",
      "source": [
        "perform_analog_analysis_singlemonth <- function(weather_data, region, gage, forecast_years, historic_years) {\n",
        "# Step 0 : preprocess WT data with streamflow information #################################################################\n",
        "detrend <- FALSE  # Set to FALSE if you do not want to detrend\n",
        "\n",
        "# Step 0: Preprocess WT data with streamflow informations\n",
        "weather_data_reg = weather_data[weather_data['region'] == region,]\n",
        "weather_data_reg = as.data.frame(weather_data_reg)\n",
        "\n",
        "standardize_if_exists <- function(df, col_name) {\n",
        "  if (col_name %in% names(df)) {\n",
        "    return(ifelse(is.na(df[[col_name]]), NA, standardize(df[[col_name]])))\n",
        "  } else {\n",
        "    return(NULL)  # Return NULL if the column doesn't exist\n",
        "  }\n",
        "}\n",
        "\n",
        "# Standardize existing weather type columns and new tclw, q, tcwv columns\n",
        "weather_data_reg <- weather_data_reg %>%\n",
        "  mutate(\n",
        "    Month = as.numeric(Month),\n",
        "    lead_month = as.numeric(lead_month),\n",
        "    Year = as.numeric(Year),\n",
        "    ## Standardize existing weather type columns\n",
        "    sd_dry_for = ifelse(is.na(dry.for), NA, standardize(dry.for)),\n",
        "    sd_normal_for = ifelse(is.na(normal.for), NA, standardize(normal.for)),\n",
        "    sd_monsoon_for = ifelse(is.na(monsoon.for), NA, standardize(monsoon.for)),\n",
        "    sd_dry_obs = ifelse(is.na(dry.obs), NA, standardize(dry.obs)),\n",
        "    sd_normal_obs = ifelse(is.na(normal.obs), NA, standardize(normal.obs)),\n",
        "    sd_monsoon_obs = ifelse(is.na(monsoon.obs), NA, standardize(monsoon.obs)),\n",
        "    #Standardize new tclw columns, assuming they might also have NA values\n",
        "    sd_tclw_obs = standardize_if_exists(., \"tclw_obs\"),\n",
        "    sd_tclw_for = standardize_if_exists(., \"tclw_for\"),\n",
        "    #sd_q_obs = standardize_if_exists(., \"q_obs\"),\n",
        "    #sd_q_for = standardize_if_exists(., \"q_for\"),\n",
        "    #sd_tcwv_obs = standardize_if_exists(., \"tcwv_obs\"),\n",
        "    #sd_tcwv_for = standardize_if_exists(., \"tcwv_for\")\n",
        "  )\n",
        "\n",
        "# Remove any NULL columns that were added due to non-existent variables\n",
        "weather_data_reg <- weather_data_reg %>%\n",
        "  select_if(~ !is.null(.))\n",
        "\n",
        "\n",
        "  # Load streamflow data\n",
        "  #streamflow_data <- read_excel(\"/glade/work/nomani/LCB_Moonsoon_Forecast/Analog_prediction_Rcodes/obs/BOR Intervening Flows Data 1971-2022_NFDextension v2.xlsx\", sheet = \"Summary Data\")\n",
        "  streamflow_data <- streamflow_data_obs\n",
        "  new_names <- c(\"Glen_Hoover\", \"Parker_Imperial\", \"Imperial_Mex\", \"Total_Below_Parker\")\n",
        "\n",
        "  streamflow_data_long <- streamflow_data %>%\n",
        "    pivot_longer(\n",
        "      cols = new_names,\n",
        "      names_to = \"Gage\",\n",
        "      values_to = \"Observation\"\n",
        "    )\n",
        "\n",
        "  streamflow_data_long_gage <- streamflow_data_long[streamflow_data_long$Gage %in% gage,]\n",
        "\n",
        "  streamflow_features <- streamflow_data_long_gage %>%\n",
        "    group_by(Gage) %>%\n",
        "    mutate(\n",
        "      #ant_sd_flow_mean_1_obs = standardize(AntecedentMeans(Observation, 1)),\n",
        "      #ant_sd_flow_mean_2_obs = standardize(AntecedentMeans(Observation, 2)),\n",
        "      ant_sd_flow_mean_3_obs = standardize(AntecedentMeans(Observation, 3)),\n",
        "      #ant_sd_flow_mean_1_for = standardize(AntecedentMeans(Observation, 1)),\n",
        "      #ant_sd_flow_mean_2_for = standardize(AntecedentMeans(Observation, 2)),\n",
        "      ant_sd_flow_mean_3_for = standardize(AntecedentMeans(Observation, 3))\n",
        "    ) %>%\n",
        "    ungroup()\n",
        "\n",
        "# Add antecedents WT here:\n",
        "  conditions <- c(\"sd_dry\", \"sd_normal\", \"sd_monsoon\")\n",
        "  suffixes <- c(\"for\", \"obs\")\n",
        "  weather_data_reg_features <- weather_data_reg\n",
        "\n",
        "  for(condition in conditions) {\n",
        "    for(suffix in suffixes) {\n",
        "      for(n in 1:3) {\n",
        "        column_name <- paste(\"ant\", condition, n, \"mean_m\", suffix, sep = \"_\")\n",
        "        original_column_name <- paste(condition, suffix, sep = \"_\")\n",
        "\n",
        "        # Apply the AntecedentMeans function to each condition and suffix combination\n",
        "        if (original_column_name %in% names(weather_data_reg_features)) {\n",
        "          weather_data_reg_features[[column_name]] <- AntecedentMeans(weather_data_reg_features[[original_column_name]], n)\n",
        "        }\n",
        "      }\n",
        "    }\n",
        "  }\n",
        "\n",
        "  all_features <- as.data.frame(weather_data_reg_features %>%   #antecedent WTs + antecedent streamflow + tclw\n",
        "                                            left_join(streamflow_features,\n",
        "                                                      by = c(\"Year\", \"Month\")))\n",
        "  streamflow_features_join <- as.data.frame(weather_data_reg %>%  #antededent streamflow + tclw\n",
        "                                  left_join(streamflow_features,\n",
        "                                            by = c(\"Year\", \"Month\")))\n",
        "\n",
        "  if (feature == \"climate_features\") {\n",
        "    features <- weather_data_reg_features\n",
        "    write.csv(features, file.path(\"/content/\",model_dir, \"4.Climate_Features.csv\"))\n",
        "  } else if (feature == \"all_features\") {\n",
        "    features <- all_features\n",
        "    write.csv(features, file.path(\"/content/\",model_dir, \"4.All_Features.csv\"))\n",
        "  } else if (feature == \"streamflow_features\") {\n",
        "    features <- streamflow_features_join\n",
        "    write.csv(features, file.path(\"/content/\",model_dir, \"4.Streamflow_Features.csv\"))\n",
        "  } else {  # Default condition to use original weather_data_reg\n",
        "    features <- weather_data_reg\n",
        "    write.csv(features, file.path(\"/content/\",model_dir, \"4.Original_Features.csv\"))\n",
        "  }\n",
        "\n",
        "    # Data exploration: Correlation analysis and plotting monthly means\n",
        "  perform_data_exploration(features)\n",
        "\n",
        "  # Define forecast and historic year ranges\n",
        "  #forecast_years <- 1981:2023  #1981:2023 #1993:2021\n",
        "  #historic_years <-  1982:2023   #1970:2023 increases forecast skill #1982:2018 decreases forecast skill\n",
        "  unique_months <- c(6, 7, 8, 9, 10)\n",
        "\n",
        "  # Filter and prepare historic and forecast WTs data for kNN\n",
        "  historic_data <- prepare_data(features, historic_years, unique_months, obs = TRUE)\n",
        "  forecast_data <- prepare_data(features, forecast_years, unique_months, obs = FALSE)\n",
        "\n",
        "#Step 2: kNN Analysis: Find 4 closest analog years ################################\n",
        "  target_months <- as.numeric(unique(forecast_data$Month))\n",
        "  target_lead_months <- as.numeric(unique(forecast_data$lead_month))\n",
        "\n",
        "  Analog_years <- data.frame()\n",
        "\n",
        "  for (month in target_months) {\n",
        "    for (lead_month in target_lead_months) {\n",
        "      # Append the results from each function call to the main results dataframe\n",
        "      # month=7; lead_month=5\n",
        "      Analog_years <- rbind(Analog_years, find_analogs_for_month_and_lead(historic_data,\n",
        "                                                                            forecast_data,\n",
        "                                                                            month,\n",
        "                                                                            lead_month,\n",
        "                                                                            k=4))\n",
        "    }\n",
        "  }\n",
        "\n",
        "  analog_year <- Analog_years %>%\n",
        "    mutate(Year = as.numeric(ForecastYear),\n",
        "           Month = as.numeric(Month),\n",
        "           Region = region)\n",
        "  write.csv(as.data.frame(analog_year), file=paste0(\"/content/\",model_dir,\"/\",\"5.Analog_years_\", region, \".csv\"))\n",
        "#Step 3: Lookup Streamflow data to find analog streamflow for the selected gage ###############################\n",
        "\n",
        "  streamflow_data_long_gage <- streamflow_data_long[streamflow_data_long$Gage %in% gage,]\n",
        "  streamflow_with_analog <- as.data.frame(streamflow_data_long_gage %>%\n",
        "                                            rename(ForecastYear = Year) %>%\n",
        "                                            left_join(analog_year, by = c(\"ForecastYear\" = \"Year\", \"Month\")) %>%\n",
        "                                            filter(!is.na(AnalogYear)))\n",
        "\n",
        "  streamflow_with_analog$ID <- rownames(streamflow_with_analog)\n",
        "  #streamflow_with_analog$AnalogObservation <- NA\n",
        "  write.csv(as.data.frame(streamflow_with_analog), file=paste0(\"/content/\",model_dir,\"/\",\"6.Streamflow_with_analog_\",region,\"_\", gage,\".csv\"))\n",
        "  return(streamflow_with_analog)\n",
        "}"
      ],
      "metadata": {
        "id": "Imbm-_IPOcWd"
      },
      "execution_count": 105,
      "outputs": []
    },
    {
      "cell_type": "markdown",
      "source": [
        "**Determine if including the aggregated months (seasonal) WTs as predictor** \\\n",
        "Currently, the best scenario is single monthly WTs predictor"
      ],
      "metadata": {
        "id": "57JM92eEM6k2"
      }
    },
    {
      "cell_type": "code",
      "source": [
        "AGGREGATE <- F\n",
        "if (AGGREGATE) {\n",
        "  perform_analog_analysis <- perform_analog_analysis_aggregated\n",
        "} else {\n",
        "  perform_analog_analysis <- perform_analog_analysis_singlemonth\n",
        "}"
      ],
      "metadata": {
        "id": "t4zNt0JfM5f1"
      },
      "execution_count": 106,
      "outputs": []
    },
    {
      "cell_type": "markdown",
      "source": [
        "# Step 3: kNN Analysis: Find 4 closest analog years"
      ],
      "metadata": {
        "id": "z7q3HwMa3Iga"
      }
    },
    {
      "cell_type": "code",
      "source": [
        "# Initialize an empty dataframe to store combined results\n",
        "combined_results <- data.frame()\n",
        "\n",
        "# Iterate over each combination and combine results\n",
        "for(i in 1:nrow(combinations)) {\n",
        "\n",
        "  current_region <- combinations$region[i]\n",
        "  current_gage <- combinations$gage[i]\n",
        "\n",
        "  # Perform the analog analysis\n",
        "  current_results <- perform_analog_analysis(merged_for, current_region, current_gage, forecast_years, historic_years)\n",
        "\n",
        "  # Combine the results using bind_rows\n",
        "  combined_results <- bind_rows(combined_results, current_results)\n",
        "}\n",
        "\n",
        "combined_results$AnalogObservation <- NA\n",
        "\n",
        "# Loop through each row of combined_results to fill in Analog Observation\n",
        "for (j in 1:nrow(combined_results)) {\n",
        "  current_analog_year <- combined_results$AnalogYear[j]\n",
        "  current_month <- combined_results$Month[j]\n",
        "  current_region <- combined_results$Region[j]\n",
        "  current_gage <- combined_results$Gage[j]\n",
        "\n",
        "  # Find the matching Observation based on AnalogYear, Month, Region, and Gage\n",
        "  matching_observation_index <- which(combined_results$ForecastYear == current_analog_year &\n",
        "                                      combined_results$Month == current_month &\n",
        "                                      combined_results$Region == current_region &\n",
        "                                      combined_results$Gage == current_gage)\n",
        "\n",
        "  # If a matching observation is found, update the AnalogObservation column\n",
        "  if (length(matching_observation_index) > 0) {\n",
        "    combined_results$AnalogObservation[j] <- combined_results$Observation[matching_observation_index[1]]\n",
        "  }\n",
        "}\n",
        "\n",
        "# Save the combined results to a CSV file\n",
        "write.csv(combined_results, file.path(\"/content/\", model_dir, \"7.streamflow_with_analog_All_combinations.csv\"))\n",
        "\n"
      ],
      "metadata": {
        "id": "JSJQuORt0nwl"
      },
      "execution_count": 107,
      "outputs": []
    },
    {
      "cell_type": "markdown",
      "source": [
        "# **Step 4: Evaluation Metrics: Calculate and print metrics for analog and reference evaluations (mean monthly and mean annual)**\n",
        "(3.Validation_metrics.R)"
      ],
      "metadata": {
        "id": "grmhxEUd2_ti"
      }
    },
    {
      "cell_type": "code",
      "source": [
        "# Choose to only export result of the best analog\n",
        "Best_Analog <- FALSE"
      ],
      "metadata": {
        "id": "kCKPg8wkBrD1"
      },
      "execution_count": 108,
      "outputs": []
    },
    {
      "cell_type": "code",
      "source": [
        "# Selet the evaluation period\n",
        "# Currently, the best scenario is 1993-2023 (we dropped the 1972-1992)\n",
        "year_start_metrics <- 1993\n",
        "year_end_metrics <- 2021\n",
        "plot_dir <- paste0(\"/content/\",model_dir,\"/plot_output/\")\n",
        "\n",
        "if (!dir.exists(plot_dir)) {\n",
        "  dir.create(plot_dir)\n",
        "}"
      ],
      "metadata": {
        "id": "HDiQSwQPB1Wm"
      },
      "execution_count": 109,
      "outputs": []
    },
    {
      "cell_type": "code",
      "source": [
        "# Load the analog years and forecasted streamflow along with historical streamflow, generated in the previous steps.\n",
        "streamflow_with_analog <- read_csv(paste0(\"/content/\",model_dir,\"/\", \"7.streamflow_with_analog_All_combinations.csv\"), show_col_types = FALSE)\n",
        "if (Best_Analog == TRUE){\n",
        "streamflow_with_analog <- streamflow_with_analog[streamflow_with_analog$Rank == 1,]\n",
        "}\n",
        "gages <- unique(streamflow_with_analog$Gage)\n",
        "print(gages)\n"
      ],
      "metadata": {
        "id": "e2W1-IlnCZL7",
        "colab": {
          "base_uri": "https://localhost:8080/"
        },
        "outputId": "666929e3-524c-4eb7-8182-a0f119ce3cf1"
      },
      "execution_count": 110,
      "outputs": [
        {
          "output_type": "stream",
          "name": "stderr",
          "text": [
            "\u001b[1m\u001b[22mNew names:\n",
            "\u001b[36m•\u001b[39m `` -> `...1`\n"
          ]
        },
        {
          "output_type": "stream",
          "name": "stdout",
          "text": [
            "[1] \"Glen_Hoover\"        \"Total_Below_Parker\"\n"
          ]
        }
      ]
    },
    {
      "cell_type": "code",
      "source": [
        "# Calculate Weighted Average Analog Streamflow\n",
        "streamflow_with_analog_WA <- streamflow_with_analog %>%\n",
        "  group_by(Gage, Region, ForecastYear, Month, LeadMonth) %>%\n",
        "  mutate(Weighted_Avg_AnalogStreamflow = sum(AnalogObservation * Weight, na.rm = TRUE) / sum(Weight, na.rm = TRUE)) %>%\n",
        "  ungroup() %>%\n",
        "  filter(!is.na(Weighted_Avg_AnalogStreamflow))\n"
      ],
      "metadata": {
        "id": "WoHHlKkN22di"
      },
      "execution_count": 111,
      "outputs": []
    },
    {
      "cell_type": "markdown",
      "source": [
        "**Calculate Reference Moving Average and Evaluation Metrics**"
      ],
      "metadata": {
        "id": "3qWibraFFgqk"
      }
    },
    {
      "cell_type": "code",
      "source": [
        "\n",
        "streamflow_data <- streamflow_data_obs\n",
        "\n",
        "new_names <- c(\"Glen_Hoover\", \"Parker_Imperial\", \"Imperial_Mex\", \"Total_Below_Parker\")\n",
        "\n",
        "streamflow_data_long <- streamflow_data %>%\n",
        "  pivot_longer(\n",
        "    cols = all_of(new_names),\n",
        "    names_to = \"Gage\",\n",
        "    values_to = \"Observation\"\n",
        "  )\n",
        "\n",
        "streamflow_data_long <- streamflow_data_long %>%\n",
        "  filter(Gage %in% gages)\n",
        "\n",
        "# Calculate previous 5-year moving average\n",
        "streamflow_Reference <- streamflow_data_long %>%\n",
        "  arrange(Gage, Year, Month) %>%\n",
        "  group_by(Gage, Month) %>%\n",
        "  mutate(\n",
        "    Moving_Average = rollapply(Observation, width = 5, FUN = mean, by.column = TRUE, align = \"right\", fill = NA),\n",
        "    Prev_5Yr_Moving_Avg = lag(Moving_Average)\n",
        "  ) %>%\n",
        "  filter(!is.na(Prev_5Yr_Moving_Avg) & !is.na(Observation)) %>%\n",
        "  ungroup()\n",
        "\n",
        "# Evaluate data for the specified forecast years\n",
        "eval_data <- streamflow_with_analog_WA %>%\n",
        "  filter(ForecastYear >= year_start_metrics & ForecastYear <= year_end_metrics)\n",
        "\n",
        "# Calculate annual evaluation metrics\n",
        "Analog_evaluation_metrics_Annual <- eval_data %>%\n",
        "  group_by(Gage, Region, ForecastYear, Month, LeadMonth) %>%\n",
        "  summarise(\n",
        "    Annual_MAE = mae(Observation, Weighted_Avg_AnalogStreamflow),\n",
        "    Annual_RMSE = rmse(Observation, Weighted_Avg_AnalogStreamflow),\n",
        "    Annual_MAPE = mape(Observation, Weighted_Avg_AnalogStreamflow),\n",
        "    .groups = \"drop\"\n",
        "  )\n",
        "\n",
        "# Calculate monthly evaluation metrics\n",
        "Analog_evaluation_metrics_Monthly <- eval_data %>%\n",
        "  group_by(Gage, Region, Month, LeadMonth) %>%\n",
        "  summarise(\n",
        "    Monthly_MAE = mae(Observation, Weighted_Avg_AnalogStreamflow),\n",
        "    Monthly_RMSE = rmse(Observation, Weighted_Avg_AnalogStreamflow),\n",
        "    Monthly_MAPE = mape(Observation, Weighted_Avg_AnalogStreamflow),\n",
        "    .groups = \"drop\"\n",
        "  )"
      ],
      "metadata": {
        "id": "lIbyp_lmEItD"
      },
      "execution_count": 112,
      "outputs": []
    },
    {
      "cell_type": "code",
      "source": [
        "# Reference Evaluation: Annual and Monthly with additional metrics\n",
        "eval_ref <- streamflow_Reference %>%\n",
        "  filter(Year >= year_start_metrics & Year <= year_end_metrics)\n",
        "\n",
        "Ref_evaluation_metrics_Annual <- eval_ref %>%\n",
        "  group_by(Gage, Year, Month) %>%\n",
        "  summarise(\n",
        "    Annual_MAE = mae(Observation, Prev_5Yr_Moving_Avg),\n",
        "    Annual_RMSE = rmse(Observation, Prev_5Yr_Moving_Avg),\n",
        "    Annual_MAPE = mape(Observation, Prev_5Yr_Moving_Avg),\n",
        "    .groups = \"drop\"\n",
        "  )\n",
        "\n",
        "Ref_evaluation_metrics_Monthly <- eval_ref %>%\n",
        "  group_by(Gage, Month) %>%\n",
        "  summarise(\n",
        "    Monthly_MAE = mae(Observation, Prev_5Yr_Moving_Avg),\n",
        "    Monthly_RMSE = rmse(Observation, Prev_5Yr_Moving_Avg),\n",
        "    Monthly_MAPE = mape(Observation, Prev_5Yr_Moving_Avg),\n",
        "    .groups = \"drop\"\n",
        "  )"
      ],
      "metadata": {
        "id": "RG2clJo-EK2z"
      },
      "execution_count": 113,
      "outputs": []
    },
    {
      "cell_type": "code",
      "source": [
        "write_csv(streamflow_Reference, paste0(\"/content/\",model_dir,\"/\",\"8.streamflow_Reference.csv\"))\n",
        "write_csv(streamflow_with_analog_WA, paste0(\"/content/\",model_dir,\"/\",\"9.streamflow_with_analog_WA.csv\"))\n",
        "write_csv(Analog_evaluation_metrics_Annual, paste0(\"/content/\",model_dir,\"/\",\"10.Analog_evaluation_metrics_Annual.csv\"))\n",
        "write_csv(Analog_evaluation_metrics_Monthly, paste0(\"/content/\",model_dir,\"/\",\"10.Analog_evaluation_metrics_Monthly.csv\"))\n",
        "write_csv(Ref_evaluation_metrics_Annual, paste0(\"/content/\",model_dir,\"/\",\"11.Ref_evaluation_metrics_Annual.csv\"))\n",
        "write_csv(Ref_evaluation_metrics_Monthly, paste0(\"/content/\",model_dir,\"/\",\"11.Ref_evaluation_metrics_Monthly.csv\"))"
      ],
      "metadata": {
        "id": "VOSD4MYWEGMb"
      },
      "execution_count": 114,
      "outputs": []
    },
    {
      "cell_type": "markdown",
      "source": [
        "# **Step 5: Visualize evaluation metrics and comparisons**\n"
      ],
      "metadata": {
        "id": "Pn_KP7jm3hhT"
      }
    },
    {
      "cell_type": "code",
      "source": [
        "# Join the data by Gage and Month if Region is not present in the reference data\n",
        "combined_metrics <- Ref_evaluation_metrics_Monthly %>%\n",
        "  full_join(Analog_evaluation_metrics_Monthly, by = c(\"Gage\", \"Month\"), suffix = c(\"_ref\", \"_pred\"))\n",
        "\n",
        "# Convert Month to a factor for ordered plotting\n",
        "combined_metrics$Month <- factor(combined_metrics$Month, levels = 1:12)\n",
        "\n",
        "# Filter for the months of interest (6, 7, 8, 9, 10)\n",
        "months_of_interest <- c(6, 7, 8, 9, 10)\n",
        "lead_months <- unique(combined_metrics$LeadMonth)\n",
        "if (ECMWF) {\n",
        "  lead_months <- lead_months[lead_months %in% c(NA, 4, 5, 6, 7, 8)]\n",
        "} else {\n",
        "  lead_months <- lead_months[lead_months %in% c(NA, 5, 8)]\n",
        "}\n",
        "\n",
        "combined_metrics <- combined_metrics %>%\n",
        "  filter(Month %in% months_of_interest & LeadMonth %in% lead_months)\n",
        "\n",
        "month_name_labeller <- as_labeller(c(`6` = \"June\", `7` = \"July\", `8` = \"August\", `9` = \"September\", `10` = \"October\"))\n",
        "\n",
        "combined_metrics <- combined_metrics %>%\n",
        "  mutate(LeadMonth = replace_na(as.character(LeadMonth), \"\"))\n",
        "\n",
        "combined_metrics <- combined_metrics %>%\n",
        "  mutate(Gage_Region = interaction(Gage, Region)) %>%\n",
        "  na.omit()\n",
        "write_csv(combined_metrics, paste0(\"/content/\",model_dir,\"/\",\"12.combined_metrics.csv\"))"
      ],
      "metadata": {
        "id": "5tBapy_bEddC"
      },
      "execution_count": 115,
      "outputs": []
    },
    {
      "cell_type": "markdown",
      "source": [
        "# **Step 6: Create one image for each metric**"
      ],
      "metadata": {
        "id": "OMcfH549EtR7"
      }
    },
    {
      "cell_type": "code",
      "source": [
        "metrics <- c(\"MAE\", \"MAPE\", \"RMSE\")\n",
        "metrics <- c(\"MAPE\", \"RMSE\")\n",
        "plot_dir <- paste0(\"/content/\",model_dir, \"/plot_output/\")\n",
        "\n",
        "plot_list <- list()\n",
        "\n",
        "for (metric in metrics) {\n",
        "  metric_pred <- paste0(\"Monthly_\", metric, \"_pred\")\n",
        "  metric_ref <- paste0(\"Monthly_\", metric, \"_ref\")\n",
        "\n",
        "  options(repr.plot.width=16, repr.plot.height=10)\n",
        "\n",
        "  p <- ggplot() +\n",
        "    geom_bar(data = combined_metrics, aes(x = LeadMonth, y = .data[[metric_pred]], fill = Gage_Region),\n",
        "             stat = \"identity\", position = position_dodge(width = 0.75), na.rm = TRUE) +\n",
        "    geom_hline(data = combined_metrics %>% group_by(Gage_Region, Month) %>%\n",
        "                 summarise(Avg_Ref = mean(.data[[metric_ref]], na.rm = TRUE), .groups = 'drop'),\n",
        "               aes(yintercept = Avg_Ref, linetype = \"Reference\"), color = \"blue\", size = 0.5, na.rm = TRUE) +\n",
        "    scale_linetype_manual(values = c(Reference = \"dashed\"), guide = guide_legend(title = \"\")) +\n",
        "    facet_grid(Gage_Region ~ Month, scales = \"free_y\") +\n",
        "    labs(title = \"Month\",\n",
        "         x = \"Initialization Month\", y = metric, fill = \"Region\") +\n",
        "    theme_minimal() +\n",
        "    theme(plot.title = element_text(size = 24, hjust = 0.5),\n",
        "          axis.title.x = element_text(size = 22),\n",
        "          axis.title.y = element_text(size = 22),\n",
        "          axis.text.x = element_text(size = 22),\n",
        "          axis.text.y = element_text(size = 22),\n",
        "          legend.title = element_text(size = 22),\n",
        "          legend.text = element_text(size = 20),\n",
        "          strip.text = element_text(size = 22)) +\n",
        "    theme(axis.ticks.y.right = element_blank(),\n",
        "          axis.text.y.right = element_blank()) +\n",
        "    theme(legend.position = \"bottom\",\n",
        "          legend.box = \"horizontal\",\n",
        "          legend.box.just = \"center\",\n",
        "          strip.text.y = element_blank()) +\n",
        "    scale_fill_brewer(palette = \"Set1\")\n",
        "\n",
        "  if (metric == \"MAPE\") {\n",
        "    p <- p + scale_y_continuous(limits = c(0, NA), oob = scales::rescale_none)\n",
        "#    p <- p + facet_grid(Gage_Region ~ Month, scales = \"free_y\", labeller = labeller(.rows = label_both)) +\n",
        "#      geom_blank(data = combined_metrics %>% filter(Gage_Region == \"Glen_Hoover.AZ_West\"),\n",
        "#                 aes(y = 250))  # Set y limit for Glen_Hoover.AZ_West in MAPE\n",
        "#    p <- p + facet_grid(Gage_Region ~ Month, scales = \"free_y\", labeller = labeller(.rows = label_both)) +\n",
        "#      geom_blank(data = combined_metrics %>% filter(Gage_Region == \"Total_Below_Parker.AZ_West\"),\n",
        "#                 aes(y = 600))  # Set y limit for Total_Below_Parker.AZ_West in MAPE\n",
        "  }\n",
        "\n",
        "  if (metric == \"RMSE\") {\n",
        "    p <- p + scale_y_continuous(limits = c(0, NA), oob = scales::rescale_none)\n",
        "#    p <- p + facet_grid(Gage_Region ~ Month, scales = \"free_y\", labeller = labeller(.rows = label_both)) +\n",
        "#      geom_blank(data = combined_metrics %>% filter(Gage_Region == \"Glen_Hoover.AZ_West\"),\n",
        "#                 aes(y = 5000))  # Set y limit for Glen_Hoover.AZ_West in RMSE\n",
        "#    p <- p + facet_grid(Gage_Region ~ Month, scales = \"free_y\", labeller = labeller(.rows = label_both)) +\n",
        "#      geom_blank(data = combined_metrics %>% filter(Gage_Region == \"Total_Below_Parker.AZ_West\"),\n",
        "#                 aes(y = 15000))  # Set y limit for Total_Below_Parker.AZ_West in RMSE\n",
        "  }\n",
        "\n",
        "  plot_list[[metric]] <- p\n",
        "}\n",
        "\n",
        "get_legend <- function(myplot) {\n",
        "  tmp <- ggplot_gtable(ggplot_build(myplot))\n",
        "  leg <- which(sapply(tmp$grobs, function(x) x$name) == \"guide-box\")\n",
        "  legend <- tmp$grobs[[leg]]\n",
        "  return(legend)\n",
        "}\n",
        "\n",
        "combined_plots <- lapply(plot_list, function(p) p + theme(legend.position = \"none\"))\n",
        "\n",
        "legend <- get_legend(plot_list[[1]])\n",
        "\n",
        "combined_plot <- arrangeGrob(\n",
        "  grobs = c(combined_plots, list(legend)),\n",
        "  layout_matrix = rbind(c(1, 2), c(3, 3)),\n",
        "  heights = c(10, 1),\n",
        "  top = textGrob(\n",
        "    paste0(\"Monthly MAPE and RMSE Comparison for: \", year_start_metrics, \"_\", year_end_metrics, \", \", model_dir),\n",
        "    gp = gpar(fontsize = 24, fontface = \"bold\")\n",
        "  )\n",
        ")\n",
        "\n",
        "grid.newpage()\n",
        "grid.draw(combined_plot)\n",
        "\n",
        "# Save the combined plot\n",
        "file_path <- paste0(plot_dir, \"Metric_Comparison_Combined.png\")\n",
        "ggsave(file_path, plot = combined_plot, width = 40, height = 16, dpi = 300)\n"
      ],
      "metadata": {
        "id": "Dy4nT-PXOY_R",
        "colab": {
          "base_uri": "https://localhost:8080/",
          "height": 617
        },
        "outputId": "89ab4762-84ab-4b60-db8e-6e3128255761"
      },
      "execution_count": 116,
      "outputs": [
        {
          "output_type": "display_data",
          "data": {
            "text/plain": [
              "plot without title"
            ],
            "image/png": "[encoded data removed]"
          },
          "metadata": {
            "image/png": {
              "width": 960,
              "height": 600
            }
          }
        }
      ]
    },
    {
      "cell_type": "markdown",
      "source": [
        "# Plot of the models metrics comparison\n",
        "You should run the notebook for three time spans save the outputs in three folders for each model: \\\n",
        "SMYLE_Prein_data : Hindcast WT: 1982-2021 \\\n",
        "SMYLE_1985: Hindcast WT: 1985-2023 \\\n",
        "SMYLE_def: Hindcast WT: 1970-2023\n",
        "\n",
        "ECMWF_Prein_data : Hindcast WT: 1982-2021 \\\n",
        "ECMWF_1985: Hindcast WT: 1985-2023 \\\n",
        "ECMWF_def: Hindcast WT: 1970-2023"
      ],
      "metadata": {
        "id": "EY1ZDv1fKcMv"
      }
    },
    {
      "cell_type": "code",
      "source": [
        "# Load necessary libraries\n",
        "library(ggplot2)\n",
        "library(dplyr)\n",
        "library(reshape2)\n",
        "library(gridExtra)\n",
        "library(grid)\n",
        "\n",
        "path_prein <- '/content/SMYLE_Prein_data/12.combined_metrics.csv'\n",
        "path_1985 <- '/content/SMYLE_1985/12.combined_metrics.csv'\n",
        "path_def <- '/content/SMYLE_def/12.combined_metrics.csv'\n",
        "\n",
        "data_prein <- read.csv(path_prein)\n",
        "data_1985 <- read.csv(path_1985)\n",
        "data_def <- read.csv(path_def)\n",
        "\n",
        "data_prein$model <- 'Prein.et.al'\n",
        "data_1985$model <- '1985_2023'\n",
        "data_def$model <- '1970_2023'\n",
        "\n",
        "combined_data <- bind_rows(data_prein, data_1985, data_def)\n",
        "\n",
        "combined_data <- combined_data %>%\n",
        "  mutate(\n",
        "    RMSE = Monthly_RMSE_pred,\n",
        "    MAPE = Monthly_MAPE_pred\n",
        "  )\n",
        "\n",
        "gage_regions <- unique(combined_data$Gage_Region)\n",
        "\n",
        "plot_list <- list()\n",
        "for (gage_region in gage_regions) {\n",
        "\n",
        "  data_gage <- combined_data %>% filter(Gage_Region == gage_region)\n",
        "\n",
        "  metrics <- c(\"RMSE\", \"MAPE\")  # RMSE first, MAPE second\n",
        "\n",
        "  for (metric in metrics) {\n",
        "\n",
        "    p <- ggplot(data_gage) +\n",
        "      geom_bar(aes(x = as.factor(LeadMonth), y = .data[[metric]], fill = model),\n",
        "               stat = \"identity\", position = position_dodge(width = 0.75), na.rm = TRUE) +\n",
        "      facet_grid(Gage_Region ~ Month, scales = \"free_y\") +\n",
        "      labs(title = paste0(gage_region),\n",
        "           x = \"Lead Month\", y = paste0(\" \", metric), fill = \"Search Pool Period\") +\n",
        "      theme_minimal() +\n",
        "      theme(plot.title = element_text(size = 24, hjust = 0.5),\n",
        "            axis.title.x = element_text(size = 22),\n",
        "            axis.title.y = element_text(size = 22),\n",
        "            axis.text.x = element_text(size = 16),\n",
        "            axis.text.y = element_text(size = 16),\n",
        "            legend.title = element_text(size = 18),\n",
        "            legend.text = element_text(size = 16),\n",
        "            strip.text = element_text(size = 18),\n",
        "            axis.ticks.y.right = element_blank(),\n",
        "            axis.text.y.right = element_blank(),\n",
        "            legend.position = \"bottom\",\n",
        "            legend.box = \"horizontal\",\n",
        "            legend.box.just = \"center\",\n",
        "            strip.text.y = element_blank()) +\n",
        "      scale_fill_manual(values = c(\"Prein.et.al\" = \"black\", \"1985_2023\" = \"blue\", \"1970_2023\" = \"red\"))\n",
        "\n",
        "    plot_list[[paste0(gage_region, \"_\", metric)]] <- p\n",
        "  }\n",
        "}\n",
        "\n",
        "get_legend <- function(myplot) {\n",
        "  tmp <- ggplot_gtable(ggplot_build(myplot))\n",
        "  leg <- which(sapply(tmp$grobs, function(x) x$name) == \"guide-box\")\n",
        "  legend <- tmp$grobs[[leg]]\n",
        "  return(legend)\n",
        "}\n",
        "\n",
        "combined_plots <- lapply(plot_list, function(p) p + theme(legend.position = \"none\"))\n",
        "legend <- get_legend(plot_list[[1]])\n",
        "\n",
        "combined_plot <- arrangeGrob(\n",
        "  grobs = c(combined_plots[paste0(gage_regions[1], \"_MAPE\")], combined_plots[paste0(gage_regions[1], \"_RMSE\")],\n",
        "            combined_plots[paste0(gage_regions[2], \"_MAPE\")], combined_plots[paste0(gage_regions[2], \"_RMSE\")], list(legend)),\n",
        "  layout_matrix = rbind(c(1, 2), c(3, 4), c(5, 5)),\n",
        "  heights = c(10, 10, 1),\n",
        "  top = textGrob(\"Comparison of Prediction Errors by Search Pool Size, SMYLE\", gp = gpar(fontsize = 24, fontface = \"bold\"))\n",
        ")\n",
        "\n",
        "grid.newpage()\n",
        "grid.draw(combined_plot)\n",
        "\n",
        "file_path <- \"/content/Metric_Comparison_Combined.png\"\n",
        "ggsave(file_path, plot = combined_plot, width = 16, height = 20, dpi = 300)\n",
        "\n",
        "\n"
      ],
      "metadata": {
        "id": "N279bb9WFqXf",
        "colab": {
          "base_uri": "https://localhost:8080/",
          "height": 193
        },
        "outputId": "e3bbb2e0-e38c-437d-80bf-2343db595d3f"
      },
      "execution_count": 117,
      "outputs": [
        {
          "output_type": "stream",
          "name": "stderr",
          "text": [
            "Warning message in file(file, \"rt\"):\n",
            "“cannot open file '/content/SMYLE_Prein_data/12.combined_metrics.csv': No such file or directory”\n"
          ]
        },
        {
          "output_type": "error",
          "ename": "ERROR",
          "evalue": "Error in file(file, \"rt\"): cannot open the connection\n",
          "traceback": [
            "Error in file(file, \"rt\"): cannot open the connection\nTraceback:\n",
            "1. read.csv(path_prein)",
            "2. read.table(file = file, header = header, sep = sep, quote = quote, \n .     dec = dec, fill = fill, comment.char = comment.char, ...)",
            "3. file(file, \"rt\")"
          ]
        }
      ]
    }
  ]
}